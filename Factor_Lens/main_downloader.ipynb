{
 "cells": [
  {
   "cell_type": "code",
   "execution_count": 4,
   "id": "371f39cb",
   "metadata": {},
   "outputs": [],
   "source": [
    "import sys, os\n",
    "sys.path.append(os.path.abspath(os.path.join(os.getcwd(), '..')))\n",
    "\n",
    "from config import LensConfig\n",
    "from Data_Downloader.coingecko import CoinGeckoDownloader\n",
    "from Data_Downloader.binance_ccxt import BinanceDownloader\n",
    "from Data_Downloader.data_manager import DataManager"
   ]
  },
  {
   "cell_type": "code",
   "execution_count": 5,
   "id": "930dfad4",
   "metadata": {},
   "outputs": [
    {
     "name": "stdout",
     "output_type": "stream",
     "text": [
      "⏭️ Skipping Bitcoin (btc) – already exists.\n",
      "⏭️ Skipping Ethereum (eth) – already exists.\n",
      "⏭️ Skipping XRP (xrp) – already exists.\n",
      "⏭️ Skipping Tether (usdt) – already exists.\n",
      "⏭️ Skipping BNB (bnb) – already exists.\n",
      "⏭️ Skipping Solana (sol) – already exists.\n",
      "⏭️ Skipping USDC (usdc) – already exists.\n",
      "⏭️ Skipping Dogecoin (doge) – already exists.\n",
      "⏭️ Skipping Lido Staked Ether (steth) – already exists.\n",
      "⏭️ Skipping TRON (trx) – already exists.\n",
      "⏭️ Skipping Cardano (ada) – already exists.\n",
      "⏭️ Skipping Wrapped stETH (wsteth) – already exists.\n",
      "⏭️ Skipping Wrapped Beacon ETH (wbeth) – already exists.\n",
      "⏭️ Skipping Chainlink (link) – already exists.\n",
      "⏭️ Skipping Wrapped Bitcoin (wbtc) – already exists.\n",
      "⏭️ Skipping Ethena USDe (usde) – already exists.\n",
      "⏭️ Skipping Figure Heloc (figr_heloc) – already exists.\n",
      "⏭️ Skipping Avalanche (avax) – already exists.\n",
      "⏭️ Skipping Hyperliquid (hype) – already exists.\n",
      "⏭️ Skipping Sui (sui) – already exists.\n",
      "⏭️ Skipping Stellar (xlm) – already exists.\n",
      "⏭️ Skipping Bitcoin Cash (bch) – already exists.\n",
      "⏭️ Skipping Wrapped eETH (weeth) – already exists.\n",
      "⏭️ Skipping WETH (weth) – already exists.\n",
      "⏭️ Skipping Hedera (hbar) – already exists.\n",
      "⏭️ Skipping LEO Token (leo) – already exists.\n",
      "⏭️ Skipping Litecoin (ltc) – already exists.\n",
      "⏭️ Skipping USDS (usds) – already exists.\n",
      "⏭️ Skipping Binance Bridged USDT (BNB Smart Chain) (bsc-usd) – already exists.\n",
      "⏭️ Skipping Coinbase Wrapped BTC (cbbtc) – already exists.\n",
      "⏭️ Skipping Shiba Inu (shib) – already exists.\n",
      "⏭️ Skipping USDT0 (usdt0) – already exists.\n",
      "⏭️ Skipping Toncoin (ton) – already exists.\n",
      "⏭️ Skipping Cronos (cro) – already exists.\n",
      "⏭️ Skipping WhiteBIT Coin (wbt) – already exists.\n",
      "⏭️ Skipping Polkadot (dot) – already exists.\n",
      "⏭️ Skipping Mantle (mnt) – already exists.\n",
      "⏭️ Skipping Ethena Staked USDe (susde) – already exists.\n",
      "⏭️ Skipping Monero (xmr) – already exists.\n",
      "⏭️ Skipping World Liberty Financial (wlfi) – already exists.\n",
      "⏭️ Skipping Uniswap (uni) – already exists.\n",
      "⏭️ Skipping Dai (dai) – already exists.\n",
      "⏭️ Skipping Aave (aave) – already exists.\n",
      "⏭️ Skipping Pepe (pepe) – already exists.\n",
      "⏭️ Skipping Ethena (ena) – already exists.\n",
      "⏭️ Skipping OKB (okb) – already exists.\n",
      "⏭️ Skipping MemeCore (m) – already exists.\n",
      "⏭️ Skipping Bitget Token (bgb) – already exists.\n",
      "⏭️ Skipping NEAR Protocol (near) – already exists.\n",
      "⏭️ Skipping Jito Staked SOL (jitosol) – already exists.\n",
      "⏭️ Skipping Aptos (apt) – already exists.\n",
      "⏭️ Skipping Bittensor (tao) – already exists.\n",
      "⏭️ Skipping MYX Finance (myx) – already exists.\n",
      "⏭️ Skipping Ondo (ondo) – already exists.\n",
      "⏭️ Skipping Ethereum Classic (etc) – already exists.\n",
      "⏭️ Skipping Worldcoin (wld) – already exists.\n",
      "⏭️ Skipping Story (ip) – already exists.\n",
      "⏭️ Skipping Binance Staked SOL (bnsol) – already exists.\n",
      "⏭️ Skipping Aster (aster) – already exists.\n",
      "⏭️ Skipping USD1 (usd1) – already exists.\n",
      "⏭️ Skipping BlackRock USD Institutional Digital Liquidity Fund (buidl) – already exists.\n",
      "⏭️ Skipping Binance-Peg WETH (weth) – already exists.\n",
      "⏭️ Skipping POL (ex-MATIC) (pol) – already exists.\n",
      "⏭️ Skipping Pump.fun (pump) – already exists.\n",
      "⏭️ Skipping PayPal USD (pyusd) – already exists.\n",
      "⏭️ Skipping Internet Computer (icp) – already exists.\n",
      "⏭️ Skipping Arbitrum (arb) – already exists.\n",
      "⏭️ Skipping Jupiter Perpetuals Liquidity Provider Token (jlp) – already exists.\n",
      "⏭️ Skipping sUSDS (susds) – already exists.\n",
      "⏭️ Skipping Pi Network (pi) – already exists.\n",
      "⏭️ Skipping Kaspa (kas) – already exists.\n",
      "⏭️ Skipping KuCoin (kcs) – already exists.\n",
      "⏭️ Skipping Pudgy Penguins (pengu) – already exists.\n",
      "⏭️ Skipping Cosmos Hub (atom) – already exists.\n",
      "⏭️ Skipping VeChain (vet) – already exists.\n",
      "⏭️ Skipping Gate (gt) – already exists.\n",
      "⏭️ Skipping Rocket Pool ETH (reth) – already exists.\n",
      "⏭️ Skipping Flare (flr) – already exists.\n",
      "⏭️ Skipping Algorand (algo) – already exists.\n",
      "⏭️ Skipping Kinetiq Staked HYPE (khype) – already exists.\n",
      "⏭️ Skipping Kelp DAO Restaked ETH (rseth) – already exists.\n",
      "⏭️ Skipping Render (render) – already exists.\n",
      "⏭️ Skipping USDtb (usdtb) – already exists.\n",
      "⏭️ Skipping Sei (sei) – already exists.\n",
      "⏭️ Skipping Provenance Blockchain (hash) – already exists.\n",
      "⏭️ Skipping Falcon USD (usdf) – already exists.\n",
      "⏭️ Skipping Plasma (xpl) – already exists.\n",
      "⏭️ Skipping BFUSD (bfusd) – already exists.\n",
      "⏭️ Skipping Sky (sky) – already exists.\n",
      "⏭️ Skipping StakeWise Staked ETH (oseth) – already exists.\n",
      "⏭️ Skipping Bonk (bonk) – already exists.\n",
      "⏭️ Skipping Filecoin (fil) – already exists.\n",
      "⏭️ Skipping Liquid Staked ETH (lseth) – already exists.\n",
      "⏭️ Skipping Artificial Superintelligence Alliance (fet) – already exists.\n",
      "⏭️ Skipping Official Trump (trump) – already exists.\n",
      "⏭️ Skipping Zcash (zec) – already exists.\n",
      "⏭️ Skipping Quant (qnt) – already exists.\n",
      "⏭️ Skipping Jupiter (jup) – already exists.\n",
      "⏭️ Skipping Tether Gold (xaut) – already exists.\n",
      "⏭️ Skipping Lombard Staked BTC (lbtc) – already exists.\n",
      "⏭️ Skipping Renzo Restaked ETH (ezeth) – already exists.\n",
      "⏭️ Skipping Immutable (imx) – already exists.\n",
      "⏭️ Skipping XDC Network (xdc) – already exists.\n",
      "⏭️ Skipping NEXO (nexo) – already exists.\n",
      "⏭️ Skipping Wrapped BNB (wbnb) – already exists.\n",
      "⏭️ Skipping Optimism (op) – already exists.\n",
      "⏭️ Skipping Injective (inj) – already exists.\n",
      "⏭️ Skipping Solv Protocol BTC (solvbtc) – already exists.\n",
      "⏭️ Skipping PAX Gold (paxg) – already exists.\n",
      "⏭️ Skipping Celestia (tia) – already exists.\n",
      "⏭️ Skipping Binance Bridged USDC (BNB Smart Chain) (usdc) – already exists.\n",
      "⏭️ Skipping Jupiter Staked SOL (jupsol) – already exists.\n",
      "⏭️ Skipping syrupUSDC (syrupusdc) – already exists.\n",
      "⏭️ Skipping Mantle Staked Ether (meth) – already exists.\n",
      "⏭️ Skipping First Digital USD (fdusd) – already exists.\n",
      "⏭️ Skipping Stacks (stx) – already exists.\n",
      "⏭️ Skipping Lido DAO (ldo) – already exists.\n",
      "⏭️ Skipping SPX6900 (spx) – already exists.\n",
      "⏭️ Skipping Sonic (s) – already exists.\n",
      "⏭️ Skipping Curve DAO (crv) – already exists.\n",
      "⏭️ Skipping Marinade Staked SOL (msol) – already exists.\n",
      "⏭️ Skipping Aerodrome Finance (aero) – already exists.\n",
      "⏭️ Skipping Arbitrum Bridged WBTC (Arbitrum One) (wbtc) – already exists.\n",
      "⏭️ Skipping Kaia (kaia) – already exists.\n",
      "⏭️ Skipping PancakeSwap (cake) – already exists.\n",
      "⏭️ Skipping The Graph (grt) – already exists.\n",
      "⏭️ Skipping clBTC (clbtc) – already exists.\n",
      "⏭️ Skipping Pyth Network (pyth) – already exists.\n",
      "⏭️ Skipping Fasttoken (ftn) – already exists.\n",
      "⏭️ Skipping AtomOne (atone) – already exists.\n",
      "⏭️ Skipping cgETH Hashkey Cloud (cgeth.hashkey) – already exists.\n",
      "⏭️ Skipping FLOKI (floki) – already exists.\n",
      "⏭️ Skipping Pendle (pendle) – already exists.\n",
      "⏭️ Skipping Ripple USD (rlusd) – already exists.\n",
      "⏭️ Skipping Saros (saros) – already exists.\n",
      "⏭️ Skipping Conflux (cfx) – already exists.\n",
      "⏭️ Skipping Raydium (ray) – already exists.\n",
      "⏭️ Skipping L2 Standard Bridged WETH (Base) (weth) – already exists.\n",
      "⏭️ Skipping dogwifhat (wif) – already exists.\n",
      "⏭️ Skipping Ether.fi (ethfi) – already exists.\n",
      "⏭️ Skipping tBTC (tbtc) – already exists.\n",
      "⏭️ Skipping Tezos (xtz) – already exists.\n",
      "⏭️ Skipping OUSG (ousg) – already exists.\n",
      "⏭️ Skipping Theta Network (theta) – already exists.\n",
      "⏭️ Skipping Global Dollar (usdg) – already exists.\n",
      "⏭️ Skipping Virtuals Protocol (virtual) – already exists.\n",
      "⏭️ Skipping IOTA (iota) – already exists.\n",
      "⏭️ Skipping GALA (gala) – already exists.\n",
      "⏭️ Skipping Ethereum Name Service (ens) – already exists.\n",
      "⏭️ Skipping Stables Labs USDX (usdx) – already exists.\n",
      "⏭️ Skipping ether.fi Staked ETH (eeth) – already exists.\n",
      "⏭️ Skipping The Sandbox (sand) – already exists.\n",
      "⏭️ Skipping Ondo US Dollar Yield (usdy) – already exists.\n",
      "⏭️ Skipping GTETH (gteth) – already exists.\n",
      "⏭️ Skipping Stader ETHx (ethx) – already exists.\n",
      "⏭️ Skipping AB (ab) – already exists.\n",
      "⏭️ Skipping Fartcoin (fartcoin) – already exists.\n",
      "⏭️ Skipping Vaulta (a) – already exists.\n",
      "⏭️ Skipping Aethir (ath) – already exists.\n",
      "⏭️ Skipping Superstate Short Duration U.S. Government Securities Fund (USTB) (ustb) – already exists.\n",
      "⏭️ Skipping Arbitrum Bridged WETH (Arbitrum One) (weth) – already exists.\n",
      "⏭️ Skipping Jito (jto) – already exists.\n",
      "⏭️ Skipping JasmyCoin (jasmy) – already exists.\n",
      "⏭️ Skipping Binance-Peg Dogecoin (doge) – already exists.\n",
      "⏭️ Skipping SwissBorg (borg) – already exists.\n",
      "⏭️ Skipping Starknet (strk) – already exists.\n",
      "⏭️ Skipping Beldex (bdx) – already exists.\n",
      "⏭️ Skipping DeXe (dexe) – already exists.\n",
      "⏭️ Skipping Mantle Restaked ETH (cmeth) – already exists.\n",
      "⏭️ Skipping Walrus (wal) – already exists.\n",
      "⏭️ Skipping Morpho (morpho) – already exists.\n",
      "⏭️ Skipping BitTorrent (btt) – already exists.\n",
      "⏭️ Skipping Flow (flow) – already exists.\n",
      "⏭️ Skipping Decentraland (mana) – already exists.\n",
      "⏭️ Skipping Swell Ethereum (sweth) – already exists.\n",
      "⏭️ Skipping 0G (0g) – already exists.\n",
      "⏭️ Skipping EigenCloud (prev. EigenLayer) (eigen) – already exists.\n",
      "⏭️ Skipping Coinbase Wrapped Staked ETH (cbeth) – already exists.\n",
      "⏭️ Skipping Usual USD (usd0) – already exists.\n",
      "⏭️ Skipping Arbitrum Bridged Wrapped eETH (Arbitrum) (weeth) – already exists.\n",
      "⏭️ Skipping Avalanche Bridged BTC (Avalanche) (btc.b) – already exists.\n",
      "⏭️ Skipping BENQI Liquid Staked AVAX (savax) – already exists.\n",
      "⏭️ Skipping Trust Wallet (twt) – already exists.\n",
      "⏭️ Skipping USDai (usdai) – already exists.\n",
      "⏭️ Skipping Kinetiq Earn Vault (vkhype) – already exists.\n",
      "⏭️ Skipping Wormhole (w) – already exists.\n",
      "⏭️ Skipping Mantle Bridged USDT (Mantle) (usdt) – already exists.\n",
      "⏭️ Skipping Bitcoin SV (bsv) – already exists.\n",
      "⏭️ Skipping Helium (hnt) – already exists.\n",
      "⏭️ Skipping TrueUSD (tusd) – already exists.\n",
      "⏭️ Skipping Loaded Lions (lion) – already exists.\n",
      "⏭️ Skipping Wrapped AVAX (wavax) – already exists.\n",
      "⏭️ Skipping Sun Token (sun) – already exists.\n",
      "⏭️ Skipping Falcon Finance (ff) – already exists.\n",
      "⏭️ Skipping Bybit Staked SOL (bbsol) – already exists.\n",
      "⏭️ Skipping Polygon PoS Bridged WETH (Polygon POS) (weth) – already exists.\n",
      "⏭️ Skipping Frax Ether (frxeth) – already exists.\n",
      "⏭️ Skipping dYdX (dydx) – already exists.\n",
      "⏭️ Skipping Fluid (fluid) – already exists.\n",
      "⏭️ Skipping USDD (usdd) – already exists.\n",
      "⏭️ Skipping Ethena Staked ENA (sena) – already exists.\n",
      "⏭️ Skipping Polygon PoS Bridged DAI (Polygon POS) (dai) – already exists.\n",
      "⏭️ Skipping SolMev (sn116) – already exists.\n",
      "⏭️ Skipping Maple Finance (syrup) – already exists.\n",
      "⏭️ Skipping Vision (vsn) – already exists.\n",
      "⏭️ Skipping Chiliz (chz) – already exists.\n",
      "⏭️ Skipping Bridged USDC (Polygon PoS Bridge) (usdc.e) – already exists.\n",
      "⏭️ Skipping ApeCoin (ape) – already exists.\n",
      "⏭️ Skipping Brett (brett) – already exists.\n",
      "⏭️ Skipping Steakhouse USDC Morpho Vault (steakusdc) – already exists.\n",
      "⏭️ Skipping Beam (beam) – already exists.\n",
      "⏭️ Skipping APENFT (nft) – already exists.\n",
      "⏭️ Skipping NEO (neo) – already exists.\n",
      "⏭️ Skipping THORChain (rune) – already exists.\n",
      "⏭️ Skipping Linea (linea) – already exists.\n",
      "⏭️ Skipping Circle USYC (usyc) – already exists.\n",
      "⏭️ Skipping Compound (comp) – already exists.\n",
      "⏭️ Skipping Wrapped HYPE (whype) – already exists.\n",
      "⬇️ Fetching USDB (usdb)...\n",
      "  ✅ saved 581 rows to data/data_Last_4_Years\\coingecko\\usdb_usdb.csv\n",
      "⬇️ Fetching Four (form)...\n",
      "  ✅ saved 197 rows to data/data_Last_4_Years\\coingecko\\form_four.csv\n",
      "⬇️ Fetching Core (core)...\n",
      "  ✅ saved 968 rows to data/data_Last_4_Years\\coingecko\\core_coredaoorg.csv\n",
      "⬇️ Fetching Gnosis (gno)...\n",
      "  ✅ saved 1461 rows to data/data_Last_4_Years\\coingecko\\gno_gnosis.csv\n",
      "⬇️ Fetching ETHPlus (eth+)...\n",
      "  ✅ saved 498 rows to data/data_Last_4_Years\\coingecko\\eth+_reserve-protocol-eth-plus.csv\n",
      "⬇️ Fetching ZKsync (zk)...\n",
      "  ✅ saved 473 rows to data/data_Last_4_Years\\coingecko\\zk_zksync.csv\n",
      "⬇️ Fetching Savings Dai (sdai)...\n",
      "  ✅ saved 722 rows to data/data_Last_4_Years\\coingecko\\sdai_savings-dai.csv\n",
      "⬇️ Fetching MultiversX (egld)...\n",
      "  ✅ saved 1461 rows to data/data_Last_4_Years\\coingecko\\egld_elrond-erd-2.csv\n",
      "⬇️ Fetching Unit Bitcoin (ubtc)...\n",
      "  ✅ saved 184 rows to data/data_Last_4_Years\\coingecko\\ubtc_unit-bitcoin.csv\n",
      "⬇️ Fetching Treehouse ETH (teth)...\n",
      "  ✅ saved 370 rows to data/data_Last_4_Years\\coingecko\\teth_treehouse-eth.csv\n",
      "⬇️ Fetching Arweave (ar)...\n",
      "  ✅ saved 1461 rows to data/data_Last_4_Years\\coingecko\\ar_arweave.csv\n",
      "⬇️ Fetching SuperVerse (super)...\n",
      "  ✅ saved 1461 rows to data/data_Last_4_Years\\coingecko\\super_superfarm.csv\n",
      "⬇️ Fetching Synthetix Network (snx)...\n",
      "  ✅ saved 1461 rows to data/data_Last_4_Years\\coingecko\\snx_havven.csv\n",
      "⬇️ Fetching Telcoin (tel)...\n",
      "  ✅ saved 1461 rows to data/data_Last_4_Years\\coingecko\\tel_telcoin.csv\n",
      "⬇️ Fetching Onyxcoin (xcn)...\n",
      "  ✅ saved 1298 rows to data/data_Last_4_Years\\coingecko\\xcn_chain-2.csv\n",
      "⬇️ Fetching Aster Staked BNB (asbnb)...\n",
      "  ✅ saved 223 rows to data/data_Last_4_Years\\coingecko\\asbnb_astherus-staked-bnb.csv\n",
      "⬇️ Fetching Zebec Network (zbcn)...\n",
      "  ✅ saved 536 rows to data/data_Last_4_Years\\coingecko\\zbcn_zebec-network.csv\n",
      "⬇️ Fetching Drift Staked SOL (dsol)...\n",
      "  ✅ saved 521 rows to data/data_Last_4_Years\\coingecko\\dsol_drift-staked-sol.csv\n",
      "⬇️ Fetching Berachain (bera)...\n",
      "  ✅ saved 239 rows to data/data_Last_4_Years\\coingecko\\bera_berachain-bera.csv\n",
      "⬇️ Fetching Axie Infinity (axs)...\n",
      "  ✅ saved 1461 rows to data/data_Last_4_Years\\coingecko\\axs_axie-infinity.csv\n",
      "⬇️ Fetching Aster USDF (usdf)...\n",
      "  ✅ saved 225 rows to data/data_Last_4_Years\\coingecko\\usdf_astherus-usdf.csv\n",
      "⬇️ Fetching Reserve Rights (rsr)...\n",
      "  ✅ saved 1461 rows to data/data_Last_4_Years\\coingecko\\rsr_reserve-rights-token.csv\n",
      "⬇️ Fetching Olympus (ohm)...\n",
      "  ✅ saved 1461 rows to data/data_Last_4_Years\\coingecko\\ohm_olympus.csv\n",
      "⬇️ Fetching eCash (xec)...\n",
      "  ✅ saved 1461 rows to data/data_Last_4_Years\\coingecko\\xec_ecash.csv\n",
      "⬇️ Fetching 1inch (1inch)...\n",
      "  ✅ saved 1461 rows to data/data_Last_4_Years\\coingecko\\1inch_1inch.csv\n",
      "⬇️ Fetching Spiko EU T-Bills Money Market Fund (eutbl)...\n",
      "  ✅ saved 414 rows to data/data_Last_4_Years\\coingecko\\eutbl_eutbl.csv\n",
      "⬇️ Fetching Mantle Bridged WETH (Mantle) (weth)...\n",
      "  ✅ saved 807 rows to data/data_Last_4_Years\\coingecko\\weth_wrapped-ether-mantle-bridge.csv\n",
      "⬇️ Fetching GHO (gho)...\n",
      "  ✅ saved 811 rows to data/data_Last_4_Years\\coingecko\\gho_gho.csv\n",
      "⬇️ Fetching Kava (kava)...\n",
      "  ✅ saved 1461 rows to data/data_Last_4_Years\\coingecko\\kava_kava.csv\n",
      "⬇️ Fetching KAITO (kaito)...\n",
      "  ✅ saved 225 rows to data/data_Last_4_Years\\coingecko\\kaito_kaito.csv\n",
      "⬇️ Fetching Unit Plasma (uxpl)...\n",
      "  ✅ saved 5 rows to data/data_Last_4_Years\\coingecko\\uxpl_unit-plasma.csv\n",
      "⬇️ Fetching Solv Protocol Staked BTC (xsolvbtc)...\n",
      "  ✅ saved 427 rows to data/data_Last_4_Years\\coingecko\\xsolvbtc_solv-protocol-solvbtc-bbn.csv\n",
      "⬇️ Fetching AIOZ Network (aioz)...\n",
      "  ✅ saved 1461 rows to data/data_Last_4_Years\\coingecko\\aioz_aioz-network.csv\n",
      "⬇️ Fetching Staked Frax Ether (sfrxeth)...\n",
      "  ✅ saved 1003 rows to data/data_Last_4_Years\\coingecko\\sfrxeth_staked-frax-ether.csv\n",
      "⬇️ Fetching AI Companions (aic)...\n",
      "  ✅ saved 388 rows to data/data_Last_4_Years\\coingecko\\aic_ai-companions.csv\n",
      "⬇️ Fetching Drift Protocol (drift)...\n",
      "  ✅ saved 505 rows to data/data_Last_4_Years\\coingecko\\drift_drift-protocol.csv\n",
      "⬇️ Fetching Ronin (ron)...\n",
      "  ✅ saved 1345 rows to data/data_Last_4_Years\\coingecko\\ron_ronin.csv\n",
      "⬇️ Fetching Dash (dash)...\n",
      "  ✅ saved 1461 rows to data/data_Last_4_Years\\coingecko\\dash_dash.csv\n",
      "⬇️ Fetching DeepBook (deep)...\n",
      "  ✅ saved 354 rows to data/data_Last_4_Years\\coingecko\\deep_deep.csv\n",
      "⬇️ Fetching JUST (jst)...\n",
      "  ✅ saved 1461 rows to data/data_Last_4_Years\\coingecko\\jst_just.csv\n",
      "⬇️ Fetching Satoshi Stablecoin (satusd)...\n",
      "  ✅ saved 506 rows to data/data_Last_4_Years\\coingecko\\satusd_satoshi-stablecoin.csv\n",
      "⬇️ Fetching WEMIX (wemix)...\n",
      "  ✅ saved 1461 rows to data/data_Last_4_Years\\coingecko\\wemix_wemix-token.csv\n",
      "⬇️ Fetching Toshi (toshi)...\n",
      "  ✅ saved 795 rows to data/data_Last_4_Years\\coingecko\\toshi_toshi.csv\n",
      "⬇️ Fetching Binance-Peg BUSD (busd)...\n",
      "  ✅ saved 780 rows to data/data_Last_4_Years\\coingecko\\busd_binance-peg-busd.csv\n",
      "⬇️ Fetching Avantis (avnt)...\n",
      "  ✅ saved 24 rows to data/data_Last_4_Years\\coingecko\\avnt_avantis.csv\n",
      "⬇️ Fetching Axelar (axl)...\n",
      "  ✅ saved 1102 rows to data/data_Last_4_Years\\coingecko\\axl_axelar.csv\n",
      "⬇️ Fetching Terra Luna Classic (lunc)...\n",
      "  ✅ saved 1461 rows to data/data_Last_4_Years\\coingecko\\lunc_terra-luna.csv\n",
      "⬇️ Fetching Polygon Bridged WBTC (Polygon POS) (wbtc)...\n",
      "  ✅ saved 425 rows to data/data_Last_4_Years\\coingecko\\wbtc_polygon-bridged-wbtc-polygon-pos.csv\n",
      "⬇️ Fetching Bio Protocol (bio)...\n",
      "  ✅ saved 273 rows to data/data_Last_4_Years\\coingecko\\bio_bio-protocol.csv\n",
      "⬇️ Fetching Movement (move)...\n",
      "  ✅ saved 298 rows to data/data_Last_4_Years\\coingecko\\move_movement.csv\n",
      "⬇️ Fetching Moca Network (moca)...\n",
      "  ✅ saved 449 rows to data/data_Last_4_Years\\coingecko\\moca_mocaverse.csv\n",
      "⬇️ Fetching BUILDon (b)...\n",
      "  ✅ saved 134 rows to data/data_Last_4_Years\\coingecko\\b_build-on.csv\n",
      "⬇️ Fetching Plume (plume)...\n",
      "  ✅ saved 255 rows to data/data_Last_4_Years\\coingecko\\plume_plume.csv\n",
      "⬇️ Fetching Legacy Frax Dollar (frax)...\n",
      "  ✅ saved 1461 rows to data/data_Last_4_Years\\coingecko\\frax_frax.csv\n",
      "⬇️ Fetching Snek (snek)...\n",
      "  ✅ saved 865 rows to data/data_Last_4_Years\\coingecko\\snek_snek.csv\n",
      "⬇️ Fetching Anoma (xan)...\n",
      "  ✅ saved 4 rows to data/data_Last_4_Years\\coingecko\\xan_anoma.csv\n",
      "⬇️ Fetching Decred (dcr)...\n",
      "  ✅ saved 1461 rows to data/data_Last_4_Years\\coingecko\\dcr_decred.csv\n",
      "⬇️ Fetching Akash Network (akt)...\n",
      "  ✅ saved 1461 rows to data/data_Last_4_Years\\coingecko\\akt_akash-network.csv\n",
      "⬇️ Fetching Merlin Chain (merl)...\n",
      "  ✅ saved 532 rows to data/data_Last_4_Years\\coingecko\\merl_merlin-chain.csv\n",
      "⬇️ Fetching Livepeer (lpt)...\n",
      "  ✅ saved 1461 rows to data/data_Last_4_Years\\coingecko\\lpt_livepeer.csv\n",
      "⬇️ Fetching Mog Coin (mog)...\n",
      "  ✅ saved 805 rows to data/data_Last_4_Years\\coingecko\\mog_mog-coin.csv\n",
      "⬇️ Fetching Venom (venom)...\n",
      "  ✅ saved 557 rows to data/data_Last_4_Years\\coingecko\\venom_venom.csv\n",
      "⬇️ Fetching Keeta (kta)...\n",
      "  ✅ saved 211 rows to data/data_Last_4_Years\\coingecko\\kta_keeta.csv\n",
      "⬇️ Fetching Creditcoin (ctc)...\n",
      "  ✅ saved 1461 rows to data/data_Last_4_Years\\coingecko\\ctc_creditcoin-2.csv\n",
      "⬇️ Fetching BTSE Token (btse)...\n",
      "  ✅ saved 1461 rows to data/data_Last_4_Years\\coingecko\\btse_btse-token.csv\n",
      "⬇️ Fetching Convex Finance (cvx)...\n",
      "  ✅ saved 1461 rows to data/data_Last_4_Years\\coingecko\\cvx_convex-finance.csv\n",
      "⬇️ Fetching cWBTC (cwbtc)...\n",
      "  ✅ saved 1461 rows to data/data_Last_4_Years\\coingecko\\cwbtc_compound-wrapped-btc.csv\n",
      "⬇️ Fetching Ribbita by Virtuals (tibbir)...\n",
      "  ✅ saved 192 rows to data/data_Last_4_Years\\coingecko\\tibbir_ribbita-by-virtuals.csv\n",
      "⬇️ Fetching Tribe (tribe)...\n",
      "  ✅ saved 1461 rows to data/data_Last_4_Years\\coingecko\\tribe_tribe-2.csv\n",
      "⬇️ Fetching EOS (eos)...\n",
      "  ✅ saved 1461 rows to data/data_Last_4_Years\\coingecko\\eos_eos.csv\n",
      "⬇️ Fetching Amp (amp)...\n",
      "  ✅ saved 1461 rows to data/data_Last_4_Years\\coingecko\\amp_amp-token.csv\n",
      "⬇️ Fetching Stables Labs Staked USDX (susdx)...\n",
      "  ✅ saved 349 rows to data/data_Last_4_Years\\coingecko\\susdx_usdx-money-staked-usdx.csv\n",
      "⬇️ Fetching Arkham (arkm)...\n",
      "  ✅ saved 808 rows to data/data_Last_4_Years\\coingecko\\arkm_arkham.csv\n",
      "⬇️ Fetching Kusama (ksm)...\n",
      "  ✅ saved 1461 rows to data/data_Last_4_Years\\coingecko\\ksm_kusama.csv\n",
      "⬇️ Fetching Rekt (rekt)...\n",
      "  ✅ saved 315 rows to data/data_Last_4_Years\\coingecko\\rekt_rekt-4.csv\n",
      "⬇️ Fetching Turbo (turbo)...\n",
      "  ✅ saved 883 rows to data/data_Last_4_Years\\coingecko\\turbo_turbo.csv\n",
      "⬇️ Fetching EURC (eurc)...\n",
      "  ✅ saved 1184 rows to data/data_Last_4_Years\\coingecko\\eurc_euro-coin.csv\n",
      "⬇️ Fetching Grass (grass)...\n",
      "  ✅ saved 340 rows to data/data_Last_4_Years\\coingecko\\grass_grass.csv\n",
      "⬇️ Fetching SafePal (sfp)...\n",
      "  ✅ saved 1461 rows to data/data_Last_4_Years\\coingecko\\sfp_safepal.csv\n",
      "⬇️ Fetching Blockchain Capital (bcap)...\n",
      "  ✅ saved 127 rows to data/data_Last_4_Years\\coingecko\\bcap_blockchain-capital.csv\n",
      "⬇️ Fetching MX (mx)...\n",
      "  ✅ saved 1461 rows to data/data_Last_4_Years\\coingecko\\mx_mx-token.csv\n",
      "⬇️ Fetching cat in a dogs world (mew)...\n",
      "  ✅ saved 556 rows to data/data_Last_4_Years\\coingecko\\mew_cat-in-a-dogs-world.csv\n",
      "⬇️ Fetching OpenEden OpenDollar (usdo)...\n",
      "  ✅ saved 186 rows to data/data_Last_4_Years\\coingecko\\usdo_openeden-open-dollar.csv\n",
      "⬇️ Fetching Binance-Peg SOL (sol)...\n",
      "  ✅ saved 219 rows to data/data_Last_4_Years\\coingecko\\sol_binance-peg-sol.csv\n",
      "⬇️ Fetching Safe (safe)...\n",
      "  ✅ saved 528 rows to data/data_Last_4_Years\\coingecko\\safe_safe.csv\n",
      "⬇️ Fetching Velo (velo)...\n",
      "  ✅ saved 1461 rows to data/data_Last_4_Years\\coingecko\\velo_velo.csv\n",
      "⬇️ Fetching Slash Vision Labs (svl)...\n",
      "  ✅ saved 521 rows to data/data_Last_4_Years\\coingecko\\svl_slash-vision-labs.csv\n",
      "⬇️ Fetching Infrared Bera (ibera)...\n",
      "  ✅ saved 214 rows to data/data_Last_4_Years\\coingecko\\ibera_infrared-bera.csv\n",
      "⬇️ Fetching AWE Network (awe)...\n",
      "  ✅ saved 1461 rows to data/data_Last_4_Years\\coingecko\\awe_stp-network.csv\n",
      "⬇️ Fetching Qtum (qtum)...\n",
      "  ✅ saved 1461 rows to data/data_Last_4_Years\\coingecko\\qtum_qtum.csv\n",
      "⬇️ Fetching Resolv USR (usr)...\n",
      "  ✅ saved 395 rows to data/data_Last_4_Years\\coingecko\\usr_resolv-usr.csv\n",
      "⬇️ Fetching Zora (zora)...\n",
      "  ✅ saved 163 rows to data/data_Last_4_Years\\coingecko\\zora_zora.csv\n",
      "⬇️ Fetching Origin Ether (oeth)...\n",
      "  ✅ saved 870 rows to data/data_Last_4_Years\\coingecko\\oeth_origin-ether.csv\n",
      "⬇️ Fetching Ultima (ultima)...\n",
      "  ✅ saved 743 rows to data/data_Last_4_Years\\coingecko\\ultima_ultima.csv\n",
      "⬇️ Fetching Compounding OpenDollar (cusdo)...\n",
      "  ✅ saved 230 rows to data/data_Last_4_Years\\coingecko\\cusdo_compounding-open-dollar.csv\n",
      "⬇️ Fetching RealLink (real)...\n",
      "  ✅ saved 1189 rows to data/data_Last_4_Years\\coingecko\\real_reallink.csv\n",
      "⬇️ Fetching Popcat (popcat)...\n",
      "  ✅ saved 654 rows to data/data_Last_4_Years\\coingecko\\popcat_popcat.csv\n",
      "⬇️ Fetching LayerZero (zro)...\n",
      "  ✅ saved 470 rows to data/data_Last_4_Years\\coingecko\\zro_layerzero.csv\n",
      "⬇️ Fetching Dog (Bitcoin) (dog)...\n",
      "  ✅ saved 525 rows to data/data_Last_4_Years\\coingecko\\dog_dog-go-to-the-moon-rune.csv\n",
      "⬇️ Fetching Syndicate (synd)...\n",
      "  ✅ saved 15 rows to data/data_Last_4_Years\\coingecko\\synd_syndicate-3.csv\n",
      "⬇️ Fetching Theta Fuel (tfuel)...\n",
      "  ✅ saved 1461 rows to data/data_Last_4_Years\\coingecko\\tfuel_theta-fuel.csv\n",
      "⬇️ Fetching ARK (ark)...\n",
      "  ✅ saved 33 rows to data/data_Last_4_Years\\coingecko\\ark_ark-3.csv\n",
      "⬇️ Fetching Golem (glm)...\n",
      "  ✅ saved 1461 rows to data/data_Last_4_Years\\coingecko\\glm_golem.csv\n",
      "⬇️ Fetching Basic Attention (bat)...\n",
      "  ✅ saved 1461 rows to data/data_Last_4_Years\\coingecko\\bat_basic-attention-token.csv\n",
      "⬇️ Fetching IoTeX (iotx)...\n",
      "  ✅ saved 1461 rows to data/data_Last_4_Years\\coingecko\\iotx_iotex.csv\n",
      "⬇️ Fetching Unit Pump (upump)...\n",
      "  ✅ saved 80 rows to data/data_Last_4_Years\\coingecko\\upump_unit-pump.csv\n",
      "⬇️ Fetching Cheems Token (cheems)...\n",
      "  ✅ saved 870 rows to data/data_Last_4_Years\\coingecko\\cheems_cheems-token.csv\n",
      "⬇️ Fetching Universal BTC (unibtc)...\n",
      "  ✅ saved 421 rows to data/data_Last_4_Years\\coingecko\\unibtc_universal-btc.csv\n",
      "⬇️ Fetching Qubic (qubic)...\n",
      "  ✅ saved 689 rows to data/data_Last_4_Years\\coingecko\\qubic_qubic-network.csv\n",
      "⬇️ Fetching Reservoir srUSD (srusd)...\n",
      "  ✅ saved 105 rows to data/data_Last_4_Years\\coingecko\\srusd_reservoir-srusd.csv\n",
      "⬇️ Fetching Peanut the Squirrel (pnut)...\n",
      "  ✅ saved 334 rows to data/data_Last_4_Years\\coingecko\\pnut_peanut-the-squirrel.csv\n",
      "⬇️ Fetching Zilliqa (zil)...\n",
      "  ✅ saved 1461 rows to data/data_Last_4_Years\\coingecko\\zil_zilliqa.csv\n",
      "⬇️ Fetching Midas mHYPER (mhyper)...\n",
      "  ✅ saved 21 rows to data/data_Last_4_Years\\coingecko\\mhyper_midas-mhyper.csv\n",
      "⬇️ Fetching Baby Doge Coin (babydoge)...\n",
      "  ✅ saved 1461 rows to data/data_Last_4_Years\\coingecko\\babydoge_baby-doge-coin.csv\n",
      "⬇️ Fetching APEX (apex)...\n",
      "  ✅ saved 1255 rows to data/data_Last_4_Years\\coingecko\\apex_apex-token-2.csv\n",
      "⬇️ Fetching MimboGameGroup (mgg)...\n",
      "  ✅ saved 114 rows to data/data_Last_4_Years\\coingecko\\mgg_mimbogamegroup.csv\n",
      "⬇️ Fetching 0x Protocol (zrx)...\n",
      "  ✅ saved 1461 rows to data/data_Last_4_Years\\coingecko\\zrx_0x.csv\n",
      "⬇️ Fetching Nexus Mutual (nxm)...\n",
      "  ✅ saved 1461 rows to data/data_Last_4_Years\\coingecko\\nxm_nxm.csv\n",
      "⬇️ Fetching Kamino (kmno)...\n",
      "  ✅ saved 521 rows to data/data_Last_4_Years\\coingecko\\kmno_kamino.csv\n",
      "⬇️ Fetching AgentFun.AI (agentfun)...\n",
      "  ✅ saved 311 rows to data/data_Last_4_Years\\coingecko\\agentfun_agentfun-ai.csv\n",
      "⬇️ Fetching Zano (zano)...\n",
      "  ✅ saved 1456 rows to data/data_Last_4_Years\\coingecko\\zano_zano.csv\n",
      "⬇️ Fetching DORA (dora)...\n",
      "  ✅ saved 77 rows to data/data_Last_4_Years\\coingecko\\dora_dora-2.csv\n",
      "⬇️ Fetching Nervos Network (ckb)...\n",
      "  ✅ saved 1461 rows to data/data_Last_4_Years\\coingecko\\ckb_nervos-network.csv\n",
      "⬇️ Fetching Lombard (bard)...\n",
      "  ✅ saved 15 rows to data/data_Last_4_Years\\coingecko\\bard_lombard-protocol.csv\n",
      "⬇️ Fetching Metal Blockchain (metal)...\n",
      "  ✅ saved 1120 rows to data/data_Last_4_Years\\coingecko\\metal_metal-blockchain.csv\n",
      "⬇️ Fetching Fidelity Digital Interest Token (fdit)...\n",
      "  ✅ saved 16 rows to data/data_Last_4_Years\\coingecko\\fdit_fidelity-digital-interest-token.csv\n",
      "⬇️ Fetching SoSoValue (soso)...\n",
      "  ✅ saved 252 rows to data/data_Last_4_Years\\coingecko\\soso_sosovalue.csv\n",
      "⬇️ Fetching Frax (prev. FXS) (frax)...\n",
      "  ✅ saved 1461 rows to data/data_Last_4_Years\\coingecko\\frax_frax-share.csv\n",
      "⬇️ Fetching Mina Protocol (mina)...\n",
      "  ✅ saved 1461 rows to data/data_Last_4_Years\\coingecko\\mina_mina-protocol.csv\n",
      "⬇️ Fetching Midas msyrupUSDp (msyrupusdp)...\n",
      "  ✅ saved 15 rows to data/data_Last_4_Years\\coingecko\\msyrupusdp_midas-msyrupusdp.csv\n",
      "⬇️ Fetching Gas (gas)...\n",
      "  ✅ saved 1461 rows to data/data_Last_4_Years\\coingecko\\gas_gas.csv\n",
      "⬇️ Fetching Ape and Pepe (apepe)...\n",
      "  ✅ saved 421 rows to data/data_Last_4_Years\\coingecko\\apepe_ape-and-pepe.csv\n",
      "⬇️ Fetching Ether.fi Staked BTC (ebtc)...\n",
      "  ✅ saved 368 rows to data/data_Last_4_Years\\coingecko\\ebtc_ether-fi-staked-btc.csv\n",
      "⬇️ Fetching Useless Coin (useless)...\n",
      "  ✅ saved 145 rows to data/data_Last_4_Years\\coingecko\\useless_useless-3.csv\n",
      "⬇️ Fetching Blur (blur)...\n",
      "  ✅ saved 962 rows to data/data_Last_4_Years\\coingecko\\blur_blur.csv\n",
      "⬇️ Fetching Oasis (rose)...\n",
      "  ✅ saved 1461 rows to data/data_Last_4_Years\\coingecko\\rose_oasis-network.csv\n",
      "⬇️ Fetching USDa (usda)...\n",
      "  ✅ saved 323 rows to data/data_Last_4_Years\\coingecko\\usda_usda-2.csv\n",
      "⬇️ Fetching Legacy Token (lgct)...\n",
      "  ✅ saved 267 rows to data/data_Last_4_Years\\coingecko\\lgct_legacy-token.csv\n",
      "⬇️ Fetching VVS Finance (vvs)...\n",
      "  ✅ saved 1418 rows to data/data_Last_4_Years\\coingecko\\vvs_vvs-finance.csv\n",
      "⬇️ Fetching YieldFi yToken (yusd)...\n",
      "  ✅ saved 254 rows to data/data_Last_4_Years\\coingecko\\yusd_yieldfi-ytoken.csv\n",
      "⬇️ Fetching Function ƒBTC (fbtc)...\n",
      "  ✅ saved 447 rows to data/data_Last_4_Years\\coingecko\\fbtc_ignition-fbtc.csv\n",
      "⬇️ Fetching Tradable NA Rent Financing Platform SSTN (pc0000031)...\n",
      "  ✅ saved 127 rows to data/data_Last_4_Years\\coingecko\\pc0000031_tradable-na-rent-financing-platform-sstn.csv\n",
      "⬇️ Fetching MANTRA (om)...\n",
      "  ✅ saved 1461 rows to data/data_Last_4_Years\\coingecko\\om_mantra-dao.csv\n",
      "⬇️ Fetching GoMining Token (gomining)...\n",
      "  ✅ saved 1461 rows to data/data_Last_4_Years\\coingecko\\gomining_gmt-token.csv\n",
      "⬇️ Fetching Super OETH (superoeth)...\n",
      "  ✅ saved 400 rows to data/data_Last_4_Years\\coingecko\\superoeth_super-oeth.csv\n",
      "⬇️ Fetching yearn.finance (yfi)...\n",
      "  ✅ saved 1461 rows to data/data_Last_4_Years\\coingecko\\yfi_yearn-finance.csv\n",
      "⬇️ Fetching Ravencoin (rvn)...\n",
      "  ✅ saved 1461 rows to data/data_Last_4_Years\\coingecko\\rvn_ravencoin.csv\n",
      "⬇️ Fetching Tokenize Xchange (tkx)...\n",
      "  ✅ saved 1461 rows to data/data_Last_4_Years\\coingecko\\tkx_tokenize-xchange.csv\n",
      "⬇️ Fetching TDCCP (tdccp)...\n",
      "  ✅ saved 147 rows to data/data_Last_4_Years\\coingecko\\tdccp_tdccp.csv\n",
      "⬇️ Fetching Minidoge (minidoge)...\n",
      "  ✅ saved 86 rows to data/data_Last_4_Years\\coingecko\\minidoge_minidoge-5.csv\n",
      "⬇️ Fetching Centrifuge (cfg)...\n",
      "  ✅ saved 136 rows to data/data_Last_4_Years\\coingecko\\cfg_centrifuge-2.csv\n",
      "⬇️ Fetching Sahara AI (sahara)...\n",
      "  ✅ saved 99 rows to data/data_Last_4_Years\\coingecko\\sahara_sahara-ai.csv\n",
      "⬇️ Fetching Kinesis Silver (kag)...\n",
      "  ✅ saved 905 rows to data/data_Last_4_Years\\coingecko\\kag_kinesis-silver.csv\n",
      "⬇️ Fetching Ecoreal Estate (ecoreal)...\n",
      "  ✅ saved 1255 rows to data/data_Last_4_Years\\coingecko\\ecoreal_ecoreal-estate.csv\n",
      "⬇️ Fetching Astar (astr)...\n",
      "  ✅ saved 1355 rows to data/data_Last_4_Years\\coingecko\\astr_astar.csv\n",
      "⬇️ Fetching Wrapped Aave Ethereum WETH (waethweth)...\n",
      "  ✅ saved 52 rows to data/data_Last_4_Years\\coingecko\\waethweth_wrapped-aave-ethereum-weth.csv\n",
      "⬇️ Fetching Restaking Vault ETH (rsteth)...\n",
      "  ✅ saved 52 rows to data/data_Last_4_Years\\coingecko\\rsteth_restaking-vault-eth.csv\n",
      "⬇️ Fetching Concordium (ccd)...\n",
      "  ✅ saved 1331 rows to data/data_Last_4_Years\\coingecko\\ccd_concordium.csv\n",
      "⬇️ Fetching XPR Network (xpr)...\n",
      "  ✅ saved 1461 rows to data/data_Last_4_Years\\coingecko\\xpr_proton.csv\n",
      "⬇️ Fetching Cronos Bridged USDC (Cronos) (usdc)...\n",
      "  ✅ saved 597 rows to data/data_Last_4_Years\\coingecko\\usdc_cronos-bridged-usdc-cronos.csv\n",
      "⬇️ Fetching Kinesis Gold (kau)...\n",
      "  ✅ saved 905 rows to data/data_Last_4_Years\\coingecko\\kau_kinesis-gold.csv\n",
      "⬇️ Fetching Resolv wstUSR (wstusr)...\n",
      "  ✅ saved 162 rows to data/data_Last_4_Years\\coingecko\\wstusr_resolv-wstusr.csv\n",
      "⬇️ Fetching Prom (prom)...\n",
      "  ✅ saved 1461 rows to data/data_Last_4_Years\\coingecko\\prom_prometeus.csv\n",
      "⬇️ Fetching MAG7.ssi (mag7.ssi)...\n",
      "  ✅ saved 285 rows to data/data_Last_4_Years\\coingecko\\mag7.ssi_mag7-ssi.csv\n",
      "⬇️ Fetching ZetaChain (zeta)...\n",
      "  ✅ saved 610 rows to data/data_Last_4_Years\\coingecko\\zeta_zetachain.csv\n",
      "⬇️ Fetching Euler (eul)...\n",
      "  ✅ saved 1197 rows to data/data_Last_4_Years\\coingecko\\eul_euler.csv\n",
      "⬇️ Fetching World Mobile Token (wmtx)...\n",
      "  ✅ saved 1380 rows to data/data_Last_4_Years\\coingecko\\wmtx_world-mobile-token.csv\n",
      "⬇️ Fetching Stargate Finance (stg)...\n",
      "  ✅ saved 1295 rows to data/data_Last_4_Years\\coingecko\\stg_stargate-finance.csv\n",
      "⬇️ Fetching USX (usx)...\n",
      "  ✅ saved 6 rows to data/data_Last_4_Years\\coingecko\\usx_usx.csv\n",
      "⬇️ Fetching ORDI (ordi)...\n",
      "  ✅ saved 879 rows to data/data_Last_4_Years\\coingecko\\ordi_ordinals.csv\n",
      "⬇️ Fetching Avalanche Bridged WETH (Avalanche) (weth)...\n",
      "  ✅ saved 414 rows to data/data_Last_4_Years\\coingecko\\weth_avalanche-bridged-weth-avalanche.csv\n",
      "⬇️ Fetching Metaplex (mplx)...\n",
      "  ✅ saved 1109 rows to data/data_Last_4_Years\\coingecko\\mplx_metaplex.csv\n",
      "⬇️ Fetching SQD (sqd)...\n",
      "  ✅ saved 504 rows to data/data_Last_4_Years\\coingecko\\sqd_subsquid.csv\n",
      "⬇️ Fetching Crypto.com Staked ETH (cdceth)...\n",
      "  ✅ saved 661 rows to data/data_Last_4_Years\\coingecko\\cdceth_crypto-com-staked-eth.csv\n",
      "⬇️ Fetching STBL (stbl)...\n",
      "  ✅ saved 17 rows to data/data_Last_4_Years\\coingecko\\stbl_stbl.csv\n",
      "⬇️ Fetching Conscious Token (conscious)...\n",
      "  ✅ saved 182 rows to data/data_Last_4_Years\\coingecko\\conscious_conscious-token.csv\n",
      "⬇️ Fetching Staked USDai (susdai)...\n",
      "  ✅ saved 100 rows to data/data_Last_4_Years\\coingecko\\susdai_susdai.csv\n",
      "⬇️ Fetching Somnia (somi)...\n",
      "  ✅ saved 31 rows to data/data_Last_4_Years\\coingecko\\somi_somnia.csv\n",
      "⬇️ Fetching Phantom Staked SOL (psol)...\n",
      "  ✅ saved 140 rows to data/data_Last_4_Years\\coingecko\\psol_phantom-staked-sol.csv\n",
      "⬇️ Fetching KOGE (koge)...\n",
      "  ✅ saved 1269 rows to data/data_Last_4_Years\\coingecko\\koge_bnb48-club-token.csv\n",
      "⬇️ Fetching GMX (gmx)...\n",
      "  ✅ saved 1461 rows to data/data_Last_4_Years\\coingecko\\gmx_gmx.csv\n",
      "⬇️ Fetching OriginTrail (trac)...\n",
      "  ✅ saved 1461 rows to data/data_Last_4_Years\\coingecko\\trac_origintrail.csv\n",
      "⬇️ Fetching Resolv RLP (rlp)...\n",
      "  ✅ saved 379 rows to data/data_Last_4_Years\\coingecko\\rlp_resolv-rlp.csv\n",
      "⬇️ Fetching Cap USD (cusd)...\n",
      "  ✅ saved 36 rows to data/data_Last_4_Years\\coingecko\\cusd_cap-usd.csv\n",
      "⬇️ Fetching Notcoin (not)...\n",
      "  ✅ saved 505 rows to data/data_Last_4_Years\\coingecko\\not_notcoin.csv\n",
      "⬇️ Fetching Holo (hot)...\n",
      "  ✅ saved 1461 rows to data/data_Last_4_Years\\coingecko\\hot_holotoken.csv\n",
      "⬇️ Fetching StandX DUSD (dusd)...\n",
      "  ✅ saved 134 rows to data/data_Last_4_Years\\coingecko\\dusd_standx-dusd.csv\n",
      "⬇️ Fetching Threshold Network (t)...\n",
      "  ✅ saved 1369 rows to data/data_Last_4_Years\\coingecko\\t_threshold-network-token.csv\n",
      "⬇️ Fetching Moo Deng (moodeng)...\n",
      "  ✅ saved 379 rows to data/data_Last_4_Years\\coingecko\\moodeng_moo-deng.csv\n",
      "⬇️ Fetching VeThor (vtho)...\n",
      "  ✅ saved 1461 rows to data/data_Last_4_Years\\coingecko\\vtho_vethor-token.csv\n",
      "⬇️ Fetching CoinEx (cet)...\n",
      "  ✅ saved 1459 rows to data/data_Last_4_Years\\coingecko\\cet_coinex-token.csv\n",
      "⬇️ Fetching EthereumPoW (ethw)...\n",
      "  ✅ saved 1136 rows to data/data_Last_4_Years\\coingecko\\ethw_ethereum-pow-iou.csv\n",
      "⬇️ Fetching cETH (ceth)...\n",
      "  ✅ saved 1461 rows to data/data_Last_4_Years\\coingecko\\ceth_compound-ether.csv\n",
      "⬇️ Fetching SKALE (skl)...\n",
      "  ✅ saved 1461 rows to data/data_Last_4_Years\\coingecko\\skl_skale.csv\n",
      "⬇️ Fetching Celo (celo)...\n",
      "  ✅ saved 1461 rows to data/data_Last_4_Years\\coingecko\\celo_celo.csv\n",
      "⬇️ Fetching Non-Playable Coin (npc)...\n",
      "  ✅ saved 791 rows to data/data_Last_4_Years\\coingecko\\npc_non-playable-coin.csv\n",
      "⬇️ Fetching ZIGChain (zig)...\n",
      "  ✅ saved 1461 rows to data/data_Last_4_Years\\coingecko\\zig_zignaly.csv\n",
      "⬇️ Fetching TROLL (troll)...\n",
      "  ✅ saved 165 rows to data/data_Last_4_Years\\coingecko\\troll_troll-2.csv\n",
      "⬇️ Fetching Siacoin (sc)...\n",
      "  ✅ saved 1461 rows to data/data_Last_4_Years\\coingecko\\sc_siacoin.csv\n",
      "⬇️ Fetching Horizen (zen)...\n",
      "  ✅ saved 1461 rows to data/data_Last_4_Years\\coingecko\\zen_zencash.csv\n",
      "⬇️ Fetching STASIS EURO (eurs)...\n",
      "  ✅ saved 1461 rows to data/data_Last_4_Years\\coingecko\\eurs_stasis-eurs.csv\n",
      "⬇️ Fetching Gems VIP (gems)...\n",
      "  ✅ saved 475 rows to data/data_Last_4_Years\\coingecko\\gems_gems-vip.csv\n",
      "⬇️ Fetching Sui Bridged WBTC (Sui) (wbtc)...\n",
      "  ✅ saved 83 rows to data/data_Last_4_Years\\coingecko\\wbtc_sui-bridged-wbtc-sui.csv\n",
      "⬇️ Fetching Polymesh (polyx)...\n",
      "  ✅ saved 1226 rows to data/data_Last_4_Years\\coingecko\\polyx_polymesh.csv\n",
      "⬇️ Fetching CoW Protocol (cow)...\n",
      "  ✅ saved 1285 rows to data/data_Last_4_Years\\coingecko\\cow_cow-protocol.csv\n",
      "⬇️ Fetching Sky Coin (xso)...\n",
      "  ✅ saved 6 rows to data/data_Last_4_Years\\coingecko\\xso_sky-coin.csv\n",
      "⬇️ Fetching Harmony (one)...\n",
      "  ✅ saved 1461 rows to data/data_Last_4_Years\\coingecko\\one_harmony.csv\n",
      "⬇️ Fetching InfiniFi USD (iusd)...\n",
      "  ✅ saved 79 rows to data/data_Last_4_Years\\coingecko\\iusd_infinifi-usd.csv\n",
      "⬇️ Fetching Succinct (prove)...\n",
      "  ✅ saved 59 rows to data/data_Last_4_Years\\coingecko\\prove_succinct.csv\n",
      "⬇️ Fetching DigiByte (dgb)...\n",
      "  ✅ saved 1461 rows to data/data_Last_4_Years\\coingecko\\dgb_digibyte.csv\n",
      "⬇️ Fetching aelf (elf)...\n",
      "  ✅ saved 1461 rows to data/data_Last_4_Years\\coingecko\\elf_aelf.csv\n",
      "⬇️ Fetching Ankr Network (ankr)...\n",
      "  ✅ saved 1461 rows to data/data_Last_4_Years\\coingecko\\ankr_ankr.csv\n",
      "⬇️ Fetching Rollbit Coin (rlb)...\n",
      "  ✅ saved 1289 rows to data/data_Last_4_Years\\coingecko\\rlb_rollbit-coin.csv\n",
      "⬇️ Fetching Memecoin (meme)...\n",
      "  ✅ saved 700 rows to data/data_Last_4_Years\\coingecko\\meme_memecoin-2.csv\n",
      "⬇️ Fetching Spiko US T-Bills Money Market Fund (ustbl)...\n",
      "  ✅ saved 409 rows to data/data_Last_4_Years\\coingecko\\ustbl_spiko-us-t-bills-money-market-fund.csv\n",
      "⬇️ Fetching Omni Network [Old] (omni)...\n",
      "  ✅ saved 534 rows to data/data_Last_4_Years\\coingecko\\omni_omni-network.csv\n",
      "⬇️ Fetching AUSD (ausd)...\n",
      "  ✅ saved 419 rows to data/data_Last_4_Years\\coingecko\\ausd_agora-dollar.csv\n",
      "⬇️ Fetching Numeraire (nmr)...\n",
      "  ✅ saved 1461 rows to data/data_Last_4_Years\\coingecko\\nmr_numeraire.csv\n",
      "⬇️ Fetching peaq (peaq)...\n",
      "  ✅ saved 325 rows to data/data_Last_4_Years\\coingecko\\peaq_peaq-2.csv\n",
      "⬇️ Fetching KUB Coin (kub)...\n",
      "  ✅ saved 1461 rows to data/data_Last_4_Years\\coingecko\\kub_bitkub-coin.csv\n",
      "⬇️ Fetching Sushi (sushi)...\n",
      "  ✅ saved 1461 rows to data/data_Last_4_Years\\coingecko\\sushi_sushi.csv\n",
      "⬇️ Fetching Babylon (baby)...\n",
      "  ✅ saved 176 rows to data/data_Last_4_Years\\coingecko\\baby_babylon.csv\n",
      "⬇️ Fetching Wrapped Centrifuge (wcfg)...\n",
      "  ✅ saved 1461 rows to data/data_Last_4_Years\\coingecko\\wcfg_wrapped-centrifuge.csv\n",
      "⬇️ Fetching Renzo Restaked LST (pzeth)...\n",
      "  ✅ saved 450 rows to data/data_Last_4_Years\\coingecko\\pzeth_renzo-restaked-lst.csv\n",
      "⬇️ Fetching Avant USD (avusd)...\n",
      "  ✅ saved 263 rows to data/data_Last_4_Years\\coingecko\\avusd_avant-usd.csv\n",
      "⬇️ Fetching Verus (vrsc)...\n",
      "  ✅ saved 1461 rows to data/data_Last_4_Years\\coingecko\\vrsc_verus-coin.csv\n",
      "⬇️ Fetching LCX (lcx)...\n",
      "  ✅ saved 1461 rows to data/data_Last_4_Years\\coingecko\\lcx_lcx.csv\n",
      "⬇️ Fetching MarsMi (marsmi)...\n",
      "  ✅ saved 73 rows to data/data_Last_4_Years\\coingecko\\marsmi_marsmi.csv\n",
      "⬇️ Fetching Melania Meme (melania)...\n",
      "  ✅ saved 257 rows to data/data_Last_4_Years\\coingecko\\melania_melania-meme.csv\n",
      "⬇️ Fetching Casper Network (cspr)...\n",
      "  ✅ saved 1461 rows to data/data_Last_4_Years\\coingecko\\cspr_casper-network.csv\n",
      "⬇️ Fetching Illuvium (ilv)...\n",
      "  ✅ saved 1461 rows to data/data_Last_4_Years\\coingecko\\ilv_illuvium.csv\n",
      "⬇️ Fetching Quantum Resistant Ledger (qrl)...\n",
      "  ✅ saved 1461 rows to data/data_Last_4_Years\\coingecko\\qrl_quantum-resistant-ledger.csv\n",
      "⬇️ Fetching Moonwell Flagship ETH (Morpho Vault) (mweth)...\n",
      "  ✅ saved 245 rows to data/data_Last_4_Years\\coingecko\\mweth_moonwell-flagship-eth-morpho-vault.csv\n",
      "⬇️ Fetching Staked Stream USD (xusd)...\n",
      "  ✅ saved 5 rows to data/data_Last_4_Years\\coingecko\\xusd_staked-stream-usd.csv\n",
      "⬇️ Fetching WOO (woo)...\n",
      "  ✅ saved 1461 rows to data/data_Last_4_Years\\coingecko\\woo_woo-network.csv\n",
      "⬇️ Fetching UCHAIN (ucn)...\n",
      "  ✅ saved 37 rows to data/data_Last_4_Years\\coingecko\\ucn_uchain-2.csv\n",
      "⬇️ Fetching XYO Network (xyo)...\n",
      "  ✅ saved 1461 rows to data/data_Last_4_Years\\coingecko\\xyo_xyo-network.csv\n",
      "⬇️ Fetching Apollo Diversified Credit Securitize Fund (acred)...\n",
      "  ✅ saved 203 rows to data/data_Last_4_Years\\coingecko\\acred_apollo-diversified-credit-securitize-fund.csv\n",
      "⬇️ Fetching Chia (xch)...\n",
      "  ✅ saved 1461 rows to data/data_Last_4_Years\\coingecko\\xch_chia.csv\n",
      "⬇️ Fetching Mask Network (mask)...\n",
      "  ✅ saved 1461 rows to data/data_Last_4_Years\\coingecko\\mask_mask-network.csv\n",
      "⬇️ Fetching Nomina (nom)...\n",
      "  ✅ saved 1 rows to data/data_Last_4_Years\\coingecko\\nom_nomina.csv\n",
      "⬇️ Fetching ICON (icx)...\n",
      "  ✅ saved 1461 rows to data/data_Last_4_Years\\coingecko\\icx_icon.csv\n",
      "⬇️ Fetching PayFi Strategy Token USDC (pstusdc)...\n",
      "  ✅ saved 16 rows to data/data_Last_4_Years\\coingecko\\pstusdc_payfi-strategy-token-usdc.csv\n",
      "⬇️ Fetching AltLayer (alt)...\n",
      "  ✅ saved 616 rows to data/data_Last_4_Years\\coingecko\\alt_altlayer.csv\n",
      "⬇️ Fetching Mira (mira)...\n",
      "  ✅ saved 7 rows to data/data_Last_4_Years\\coingecko\\mira_mira-3.csv\n",
      "⬇️ Fetching crvUSD (crvusd)...\n",
      "  ✅ saved 863 rows to data/data_Last_4_Years\\coingecko\\crvusd_crvusd.csv\n",
      "⬇️ Fetching RedStone (red)...\n",
      "  ✅ saved 211 rows to data/data_Last_4_Years\\coingecko\\red_redstone-oracles.csv\n",
      "⬇️ Fetching Avant Staked USD (savusd)...\n",
      "  ✅ saved 252 rows to data/data_Last_4_Years\\coingecko\\savusd_avant-staked-usd.csv\n",
      "⬇️ Fetching Theo Short Duration US Treasury Fund (thbill)...\n",
      "  ✅ saved 57 rows to data/data_Last_4_Years\\coingecko\\thbill_theo-short-duration-us-treasury-fund.csv\n",
      "⬇️ Fetching GMT (gmt)...\n",
      "  ✅ saved 1304 rows to data/data_Last_4_Years\\coingecko\\gmt_stepn.csv\n",
      "⬇️ Fetching GUSD (gusd)...\n",
      "  ✅ saved 36 rows to data/data_Last_4_Years\\coingecko\\gusd_gusd.csv\n",
      "⬇️ Fetching ALEO (aleo)...\n",
      "  ✅ saved 379 rows to data/data_Last_4_Years\\coingecko\\aleo_aleo.csv\n",
      "⬇️ Fetching Kadena (kda)...\n",
      "  ✅ saved 1461 rows to data/data_Last_4_Years\\coingecko\\kda_kadena.csv\n",
      "⬇️ Fetching Orca (orca)...\n",
      "  ✅ saved 1461 rows to data/data_Last_4_Years\\coingecko\\orca_orca.csv\n",
      "⬇️ Fetching Stargate Bridged USDC (usdc.e)...\n",
      "  ✅ saved 15 rows to data/data_Last_4_Years\\coingecko\\usdc.e_stargate-bridged-usdc.csv\n",
      "⬇️ Fetching Lorenzo stBTC (stbtc)...\n",
      "  ✅ saved 345 rows to data/data_Last_4_Years\\coingecko\\stbtc_lorenzo-stbtc.csv\n",
      "⬇️ Fetching Enjin Coin (enj)...\n",
      "  ✅ saved 1461 rows to data/data_Last_4_Years\\coingecko\\enj_enjincoin.csv\n",
      "⬇️ Fetching Purr (purr)...\n",
      "  ✅ saved 518 rows to data/data_Last_4_Years\\coingecko\\purr_purr-2.csv\n",
      "⬇️ Fetching Vana (vana)...\n",
      "  ✅ saved 291 rows to data/data_Last_4_Years\\coingecko\\vana_vana.csv\n",
      "⬇️ Fetching Ozone Chain (ozo)...\n",
      "  ✅ saved 772 rows to data/data_Last_4_Years\\coingecko\\ozo_ozone-chain.csv\n",
      "⬇️ Fetching io.net (io)...\n",
      "  ✅ saved 479 rows to data/data_Last_4_Years\\coingecko\\io_io.csv\n",
      "⬇️ Fetching Kelp Gain (ageth)...\n",
      "  ✅ saved 395 rows to data/data_Last_4_Years\\coingecko\\ageth_kelp-gain.csv\n",
      "⬇️ Fetching Neiro (neiro)...\n",
      "  ✅ saved 428 rows to data/data_Last_4_Years\\coingecko\\neiro_neiro-3.csv\n",
      "⬇️ Fetching Undeads Games (uds)...\n",
      "  ✅ saved 519 rows to data/data_Last_4_Years\\coingecko\\uds_undeads-games.csv\n",
      "⬇️ Fetching Fulcrom (ful)...\n",
      "  ✅ saved 913 rows to data/data_Last_4_Years\\coingecko\\ful_fulcrom.csv\n",
      "⬇️ Fetching Gigachad (giga)...\n",
      "  ✅ saved 620 rows to data/data_Last_4_Years\\coingecko\\giga_gigachad-2.csv\n",
      "⬇️ Fetching HashKey Platform Token (hsk)...\n",
      "  ✅ saved 311 rows to data/data_Last_4_Years\\coingecko\\hsk_hashkey-ecopoints.csv\n",
      "⬇️ Fetching BOOK OF MEME (bome)...\n",
      "  ✅ saved 568 rows to data/data_Last_4_Years\\coingecko\\bome_book-of-meme.csv\n",
      "⬇️ Fetching Amnis Aptos (amapt)...\n",
      "  ✅ saved 705 rows to data/data_Last_4_Years\\coingecko\\amapt_amnis-aptos.csv\n",
      "⬇️ Fetching Humanity (h)...\n",
      "  ✅ saved 100 rows to data/data_Last_4_Years\\coingecko\\h_humanity.csv\n",
      "⬇️ Fetching Yala Stablecoin (yu)...\n",
      "  ✅ saved 130 rows to data/data_Last_4_Years\\coingecko\\yu_yu.csv\n",
      "⬇️ Fetching Anzen USDz (usdz)...\n",
      "  ✅ saved 499 rows to data/data_Last_4_Years\\coingecko\\usdz_anzen-usdz.csv\n",
      "⬇️ Fetching DOLA (dola)...\n",
      "  ✅ saved 1461 rows to data/data_Last_4_Years\\coingecko\\dola_dola-usd.csv\n",
      "⬇️ Fetching Helder (hldr)...\n",
      "  ✅ saved 141 rows to data/data_Last_4_Years\\coingecko\\hldr_helder.csv\n",
      "⬇️ Fetching Ontology (ont)...\n",
      "  ✅ saved 1461 rows to data/data_Last_4_Years\\coingecko\\ont_ontology.csv\n",
      "⬇️ Fetching Sologenic (solo)...\n",
      "  ✅ saved 1461 rows to data/data_Last_4_Years\\coingecko\\solo_solo-coin.csv\n",
      "⬇️ Fetching Elixir deUSD (deusd)...\n",
      "  ✅ saved 428 rows to data/data_Last_4_Years\\coingecko\\deusd_elixir-deusd.csv\n",
      "⬇️ Fetching sBTC (sbtc)...\n",
      "  ✅ saved 237 rows to data/data_Last_4_Years\\coingecko\\sbtc_sbtc-2.csv\n",
      "⬇️ Fetching Midas mF-ONE (mf-one)...\n",
      "  ✅ saved 74 rows to data/data_Last_4_Years\\coingecko\\mf-one_midas-mf-one.csv\n",
      "⬇️ Fetching Clearpool (cpool)...\n",
      "  ✅ saved 1436 rows to data/data_Last_4_Years\\coingecko\\cpool_clearpool.csv\n",
      "⬇️ Fetching Wrapped Aave Ethereum USDT (waethusdt)...\n",
      "  ✅ saved 52 rows to data/data_Last_4_Years\\coingecko\\waethusdt_wrapped-aave-ethereum-usdt.csv\n",
      "⬇️ Fetching Orderly (order)...\n",
      "  ✅ saved 403 rows to data/data_Last_4_Years\\coingecko\\order_orderly-network.csv\n",
      "⚠️ Skipping USDT/USDT, not on Binance\n",
      "⚠️ Skipping STETH/USDT, not on Binance\n",
      "⚠️ Skipping WSTETH/USDT, not on Binance\n",
      "⚠️ Skipping FIGR_HELOC/USDT, not on Binance\n",
      "⚠️ Skipping HYPE/USDT, not on Binance\n",
      "⚠️ Skipping WEETH/USDT, not on Binance\n",
      "⚠️ Skipping WETH/USDT, not on Binance\n",
      "⚠️ Skipping LEO/USDT, not on Binance\n",
      "⚠️ Skipping BSC-USD/USDT, not on Binance\n",
      "⚠️ Skipping CBBTC/USDT, not on Binance\n",
      "⚠️ Skipping USDT0/USDT, not on Binance\n",
      "⚠️ Skipping CRO/USDT, not on Binance\n",
      "⚠️ Skipping WBT/USDT, not on Binance\n",
      "⚠️ Skipping MNT/USDT, not on Binance\n",
      "⚠️ Skipping SUSDE/USDT, not on Binance\n",
      "⚠️ Skipping OKB/USDT, not on Binance\n",
      "⚠️ Skipping M/USDT, not on Binance\n",
      "⚠️ Skipping BGB/USDT, not on Binance\n",
      "⚠️ Skipping JITOSOL/USDT, not on Binance\n",
      "⚠️ Skipping MYX/USDT, not on Binance\n",
      "⚠️ Skipping IP/USDT, not on Binance\n",
      "⚠️ Skipping ASTER/USDT, not on Binance\n",
      "⚠️ Skipping BUIDL/USDT, not on Binance\n",
      "⚠️ Skipping WETH/USDT, not on Binance\n",
      "⚠️ Skipping PYUSD/USDT, not on Binance\n",
      "⚠️ Skipping JLP/USDT, not on Binance\n",
      "⚠️ Skipping SUSDS/USDT, not on Binance\n",
      "⚠️ Skipping PI/USDT, not on Binance\n",
      "⚠️ Skipping KAS/USDT, not on Binance\n",
      "⚠️ Skipping KCS/USDT, not on Binance\n",
      "⚠️ Skipping GT/USDT, not on Binance\n",
      "⚠️ Skipping RETH/USDT, not on Binance\n",
      "⚠️ Skipping FLR/USDT, not on Binance\n",
      "⚠️ Skipping KHYPE/USDT, not on Binance\n",
      "⚠️ Skipping RSETH/USDT, not on Binance\n",
      "⚠️ Skipping USDTB/USDT, not on Binance\n",
      "⚠️ Skipping HASH/USDT, not on Binance\n",
      "⚠️ Skipping USDF/USDT, not on Binance\n",
      "⚠️ Skipping OSETH/USDT, not on Binance\n",
      "⚠️ Skipping LSETH/USDT, not on Binance\n",
      "⚠️ Skipping XAUT/USDT, not on Binance\n",
      "⚠️ Skipping LBTC/USDT, not on Binance\n",
      "⚠️ Skipping EZETH/USDT, not on Binance\n",
      "⚠️ Skipping XDC/USDT, not on Binance\n",
      "⚠️ Skipping WBNB/USDT, not on Binance\n",
      "⚠️ Skipping SOLVBTC/USDT, not on Binance\n",
      "⚠️ Skipping JUPSOL/USDT, not on Binance\n",
      "⚠️ Skipping SYRUPUSDC/USDT, not on Binance\n",
      "⚠️ Skipping METH/USDT, not on Binance\n",
      "⚠️ Skipping SPX/USDT, not on Binance\n",
      "⚠️ Skipping MSOL/USDT, not on Binance\n",
      "⚠️ Skipping AERO/USDT, not on Binance\n",
      "⚠️ Skipping CLBTC/USDT, not on Binance\n",
      "⚠️ Skipping FTN/USDT, not on Binance\n",
      "⚠️ Skipping ATONE/USDT, not on Binance\n",
      "⚠️ Skipping CGETH.HASHKEY/USDT, not on Binance\n",
      "⚠️ Skipping RLUSD/USDT, not on Binance\n",
      "⚠️ Skipping SAROS/USDT, not on Binance\n",
      "⚠️ Skipping WETH/USDT, not on Binance\n",
      "⚠️ Skipping TBTC/USDT, not on Binance\n",
      "⚠️ Skipping OUSG/USDT, not on Binance\n",
      "⚠️ Skipping USDG/USDT, not on Binance\n",
      "⚠️ Skipping USDX/USDT, not on Binance\n",
      "⚠️ Skipping EETH/USDT, not on Binance\n",
      "⚠️ Skipping USDY/USDT, not on Binance\n",
      "⚠️ Skipping GTETH/USDT, not on Binance\n",
      "⚠️ Skipping ETHX/USDT, not on Binance\n",
      "⚠️ Skipping AB/USDT, not on Binance\n",
      "⚠️ Skipping FARTCOIN/USDT, not on Binance\n",
      "⚠️ Skipping ATH/USDT, not on Binance\n",
      "⚠️ Skipping USTB/USDT, not on Binance\n",
      "⚠️ Skipping WETH/USDT, not on Binance\n",
      "⚠️ Skipping BORG/USDT, not on Binance\n",
      "⚠️ Skipping BDX/USDT, not on Binance\n",
      "⚠️ Skipping CMETH/USDT, not on Binance\n",
      "⚠️ Skipping WAL/USDT, not on Binance\n",
      "⚠️ Skipping MORPHO/USDT, not on Binance\n",
      "⚠️ Skipping SWETH/USDT, not on Binance\n",
      "⚠️ Skipping CBETH/USDT, not on Binance\n",
      "⚠️ Skipping USD0/USDT, not on Binance\n",
      "⚠️ Skipping WEETH/USDT, not on Binance\n",
      "⚠️ Skipping BTC.B/USDT, not on Binance\n",
      "⚠️ Skipping SAVAX/USDT, not on Binance\n",
      "⚠️ Skipping USDAI/USDT, not on Binance\n",
      "⚠️ Skipping VKHYPE/USDT, not on Binance\n",
      "⚠️ Skipping USDT/USDT, not on Binance\n",
      "⚠️ Skipping LION/USDT, not on Binance\n",
      "⚠️ Skipping WAVAX/USDT, not on Binance\n",
      "⚠️ Skipping BBSOL/USDT, not on Binance\n",
      "⚠️ Skipping WETH/USDT, not on Binance\n",
      "⚠️ Skipping FRXETH/USDT, not on Binance\n",
      "⚠️ Skipping FLUID/USDT, not on Binance\n",
      "⚠️ Skipping USDD/USDT, not on Binance\n",
      "⚠️ Skipping SENA/USDT, not on Binance\n",
      "⚠️ Skipping SN116/USDT, not on Binance\n",
      "⚠️ Skipping VSN/USDT, not on Binance\n",
      "⚠️ Skipping USDC.E/USDT, not on Binance\n",
      "⚠️ Skipping BRETT/USDT, not on Binance\n",
      "⚠️ Skipping STEAKUSDC/USDT, not on Binance\n",
      "⚠️ Skipping NFT/USDT, not on Binance\n",
      "⚠️ Skipping USYC/USDT, not on Binance\n",
      "⚠️ Skipping WHYPE/USDT, not on Binance\n",
      "⚠️ Skipping USDB/USDT, not on Binance\n",
      "⚠️ Skipping CORE/USDT, not on Binance\n",
      "⚠️ Skipping ETH+/USDT, not on Binance\n",
      "⚠️ Skipping SDAI/USDT, not on Binance\n",
      "⚠️ Skipping UBTC/USDT, not on Binance\n",
      "⚠️ Skipping TETH/USDT, not on Binance\n",
      "⚠️ Skipping TEL/USDT, not on Binance\n",
      "⚠️ Skipping XCN/USDT, not on Binance\n",
      "⚠️ Skipping ASBNB/USDT, not on Binance\n",
      "⚠️ Skipping ZBCN/USDT, not on Binance\n",
      "⚠️ Skipping DSOL/USDT, not on Binance\n",
      "⚠️ Skipping USDF/USDT, not on Binance\n",
      "⚠️ Skipping OHM/USDT, not on Binance\n",
      "⚠️ Skipping EUTBL/USDT, not on Binance\n",
      "⚠️ Skipping WETH/USDT, not on Binance\n",
      "⚠️ Skipping GHO/USDT, not on Binance\n",
      "⚠️ Skipping UXPL/USDT, not on Binance\n",
      "⚠️ Skipping XSOLVBTC/USDT, not on Binance\n",
      "⚠️ Skipping AIOZ/USDT, not on Binance\n",
      "⚠️ Skipping SFRXETH/USDT, not on Binance\n",
      "⚠️ Skipping AIC/USDT, not on Binance\n",
      "⚠️ Skipping DRIFT/USDT, not on Binance\n",
      "⚠️ Skipping RON/USDT, not on Binance\n",
      "⚠️ Skipping DEEP/USDT, not on Binance\n",
      "⚠️ Skipping SATUSD/USDT, not on Binance\n",
      "⚠️ Skipping WEMIX/USDT, not on Binance\n",
      "⚠️ Skipping TOSHI/USDT, not on Binance\n",
      "⚠️ Skipping MOCA/USDT, not on Binance\n",
      "⚠️ Skipping B/USDT, not on Binance\n",
      "⚠️ Skipping FRAX/USDT, not on Binance\n",
      "⚠️ Skipping SNEK/USDT, not on Binance\n",
      "⚠️ Skipping XAN/USDT, not on Binance\n",
      "⚠️ Skipping AKT/USDT, not on Binance\n",
      "⚠️ Skipping MERL/USDT, not on Binance\n",
      "⚠️ Skipping MOG/USDT, not on Binance\n",
      "⚠️ Skipping VENOM/USDT, not on Binance\n",
      "⚠️ Skipping KTA/USDT, not on Binance\n",
      "⚠️ Skipping CTC/USDT, not on Binance\n",
      "⚠️ Skipping BTSE/USDT, not on Binance\n",
      "⚠️ Skipping CWBTC/USDT, not on Binance\n",
      "⚠️ Skipping TIBBIR/USDT, not on Binance\n",
      "⚠️ Skipping SUSDX/USDT, not on Binance\n",
      "⚠️ Skipping REKT/USDT, not on Binance\n",
      "⚠️ Skipping EURC/USDT, not on Binance\n",
      "⚠️ Skipping GRASS/USDT, not on Binance\n",
      "⚠️ Skipping BCAP/USDT, not on Binance\n",
      "⚠️ Skipping MX/USDT, not on Binance\n",
      "⚠️ Skipping MEW/USDT, not on Binance\n",
      "⚠️ Skipping USDO/USDT, not on Binance\n",
      "⚠️ Skipping SAFE/USDT, not on Binance\n",
      "⚠️ Skipping VELO/USDT, not on Binance\n",
      "⚠️ Skipping SVL/USDT, not on Binance\n",
      "⚠️ Skipping IBERA/USDT, not on Binance\n",
      "⚠️ Skipping USR/USDT, not on Binance\n",
      "⚠️ Skipping ZORA/USDT, not on Binance\n",
      "⚠️ Skipping OETH/USDT, not on Binance\n",
      "⚠️ Skipping ULTIMA/USDT, not on Binance\n",
      "⚠️ Skipping CUSDO/USDT, not on Binance\n",
      "⚠️ Skipping REAL/USDT, not on Binance\n",
      "⚠️ Skipping POPCAT/USDT, not on Binance\n",
      "⚠️ Skipping DOG/USDT, not on Binance\n",
      "⚠️ Skipping SYND/USDT, not on Binance\n",
      "⚠️ Skipping UPUMP/USDT, not on Binance\n",
      "⚠️ Skipping CHEEMS/USDT, not on Binance\n",
      "⚠️ Skipping UNIBTC/USDT, not on Binance\n",
      "⚠️ Skipping QUBIC/USDT, not on Binance\n",
      "⚠️ Skipping SRUSD/USDT, not on Binance\n",
      "⚠️ Skipping MHYPER/USDT, not on Binance\n",
      "⚠️ Skipping BABYDOGE/USDT, not on Binance\n",
      "⚠️ Skipping APEX/USDT, not on Binance\n",
      "⚠️ Skipping MGG/USDT, not on Binance\n",
      "⚠️ Skipping NXM/USDT, not on Binance\n",
      "⚠️ Skipping AGENTFUN/USDT, not on Binance\n",
      "⚠️ Skipping ZANO/USDT, not on Binance\n",
      "⚠️ Skipping DORA/USDT, not on Binance\n",
      "⚠️ Skipping METAL/USDT, not on Binance\n",
      "⚠️ Skipping FDIT/USDT, not on Binance\n",
      "⚠️ Skipping SOSO/USDT, not on Binance\n",
      "⚠️ Skipping FRAX/USDT, not on Binance\n",
      "⚠️ Skipping MSYRUPUSDP/USDT, not on Binance\n",
      "⚠️ Skipping APEPE/USDT, not on Binance\n",
      "⚠️ Skipping EBTC/USDT, not on Binance\n",
      "⚠️ Skipping USELESS/USDT, not on Binance\n",
      "⚠️ Skipping USDA/USDT, not on Binance\n",
      "⚠️ Skipping LGCT/USDT, not on Binance\n",
      "⚠️ Skipping VVS/USDT, not on Binance\n",
      "⚠️ Skipping YUSD/USDT, not on Binance\n",
      "⚠️ Skipping FBTC/USDT, not on Binance\n",
      "⚠️ Skipping PC0000031/USDT, not on Binance\n",
      "⚠️ Skipping GOMINING/USDT, not on Binance\n",
      "⚠️ Skipping SUPEROETH/USDT, not on Binance\n",
      "⚠️ Skipping TKX/USDT, not on Binance\n",
      "⚠️ Skipping TDCCP/USDT, not on Binance\n",
      "⚠️ Skipping MINIDOGE/USDT, not on Binance\n",
      "⚠️ Skipping CFG/USDT, not on Binance\n",
      "⚠️ Skipping KAG/USDT, not on Binance\n",
      "⚠️ Skipping ECOREAL/USDT, not on Binance\n",
      "⚠️ Skipping WAETHWETH/USDT, not on Binance\n",
      "⚠️ Skipping RSTETH/USDT, not on Binance\n",
      "⚠️ Skipping CCD/USDT, not on Binance\n",
      "⚠️ Skipping XPR/USDT, not on Binance\n",
      "⚠️ Skipping KAU/USDT, not on Binance\n",
      "⚠️ Skipping WSTUSR/USDT, not on Binance\n",
      "⚠️ Skipping MAG7.SSI/USDT, not on Binance\n",
      "⚠️ Skipping ZETA/USDT, not on Binance\n",
      "⚠️ Skipping EUL/USDT, not on Binance\n",
      "⚠️ Skipping WMTX/USDT, not on Binance\n",
      "⚠️ Skipping USX/USDT, not on Binance\n",
      "⚠️ Skipping WETH/USDT, not on Binance\n",
      "⚠️ Skipping MPLX/USDT, not on Binance\n",
      "⚠️ Skipping SQD/USDT, not on Binance\n",
      "⚠️ Skipping CDCETH/USDT, not on Binance\n",
      "⚠️ Skipping STBL/USDT, not on Binance\n",
      "⚠️ Skipping CONSCIOUS/USDT, not on Binance\n",
      "⚠️ Skipping SUSDAI/USDT, not on Binance\n",
      "⚠️ Skipping PSOL/USDT, not on Binance\n",
      "⚠️ Skipping KOGE/USDT, not on Binance\n",
      "⚠️ Skipping TRAC/USDT, not on Binance\n",
      "⚠️ Skipping RLP/USDT, not on Binance\n",
      "⚠️ Skipping CUSD/USDT, not on Binance\n",
      "⚠️ Skipping DUSD/USDT, not on Binance\n",
      "⚠️ Skipping MOODENG/USDT, not on Binance\n",
      "⚠️ Skipping CET/USDT, not on Binance\n",
      "⚠️ Skipping ETHW/USDT, not on Binance\n",
      "⚠️ Skipping CETH/USDT, not on Binance\n",
      "⚠️ Skipping NPC/USDT, not on Binance\n",
      "⚠️ Skipping ZIG/USDT, not on Binance\n",
      "⚠️ Skipping TROLL/USDT, not on Binance\n",
      "⚠️ Skipping EURS/USDT, not on Binance\n",
      "⚠️ Skipping GEMS/USDT, not on Binance\n",
      "⚠️ Skipping XSO/USDT, not on Binance\n",
      "⚠️ Skipping IUSD/USDT, not on Binance\n",
      "⚠️ Skipping RLB/USDT, not on Binance\n",
      "⚠️ Skipping USTBL/USDT, not on Binance\n",
      "⚠️ Skipping AUSD/USDT, not on Binance\n",
      "⚠️ Skipping PEAQ/USDT, not on Binance\n",
      "⚠️ Skipping KUB/USDT, not on Binance\n",
      "⚠️ Skipping WCFG/USDT, not on Binance\n",
      "⚠️ Skipping PZETH/USDT, not on Binance\n",
      "⚠️ Skipping AVUSD/USDT, not on Binance\n",
      "⚠️ Skipping VRSC/USDT, not on Binance\n",
      "⚠️ Skipping LCX/USDT, not on Binance\n",
      "⚠️ Skipping MARSMI/USDT, not on Binance\n",
      "⚠️ Skipping MELANIA/USDT, not on Binance\n",
      "⚠️ Skipping CSPR/USDT, not on Binance\n",
      "⚠️ Skipping QRL/USDT, not on Binance\n",
      "⚠️ Skipping MWETH/USDT, not on Binance\n",
      "⚠️ Skipping UCN/USDT, not on Binance\n",
      "⚠️ Skipping XYO/USDT, not on Binance\n",
      "⚠️ Skipping ACRED/USDT, not on Binance\n",
      "⚠️ Skipping XCH/USDT, not on Binance\n",
      "⚠️ Skipping PSTUSDC/USDT, not on Binance\n",
      "⚠️ Skipping CRVUSD/USDT, not on Binance\n",
      "⚠️ Skipping SAVUSD/USDT, not on Binance\n",
      "⚠️ Skipping THBILL/USDT, not on Binance\n",
      "⚠️ Skipping GUSD/USDT, not on Binance\n",
      "⚠️ Skipping ALEO/USDT, not on Binance\n",
      "⚠️ Skipping USDC.E/USDT, not on Binance\n",
      "⚠️ Skipping STBTC/USDT, not on Binance\n",
      "⚠️ Skipping PURR/USDT, not on Binance\n",
      "⚠️ Skipping OZO/USDT, not on Binance\n",
      "⚠️ Skipping AGETH/USDT, not on Binance\n",
      "⚠️ Skipping UDS/USDT, not on Binance\n",
      "⚠️ Skipping FUL/USDT, not on Binance\n",
      "⚠️ Skipping GIGA/USDT, not on Binance\n",
      "⚠️ Skipping HSK/USDT, not on Binance\n",
      "⚠️ Skipping AMAPT/USDT, not on Binance\n",
      "⚠️ Skipping H/USDT, not on Binance\n",
      "⚠️ Skipping YU/USDT, not on Binance\n",
      "⚠️ Skipping USDZ/USDT, not on Binance\n",
      "⚠️ Skipping DOLA/USDT, not on Binance\n",
      "⚠️ Skipping HLDR/USDT, not on Binance\n",
      "⚠️ Skipping SOLO/USDT, not on Binance\n",
      "⚠️ Skipping DEUSD/USDT, not on Binance\n",
      "⚠️ Skipping SBTC/USDT, not on Binance\n",
      "⚠️ Skipping MF-ONE/USDT, not on Binance\n",
      "⚠️ Skipping CPOOL/USDT, not on Binance\n",
      "⚠️ Skipping WAETHUSDT/USDT, not on Binance\n",
      "⚠️ Skipping ORDER/USDT, not on Binance\n",
      "Filtered Binance symbols: ['BTC/USDT', 'ETH/USDT', 'XRP/USDT', 'BNB/USDT', 'SOL/USDT', 'USDC/USDT', 'DOGE/USDT', 'TRX/USDT', 'ADA/USDT', 'WBETH/USDT', 'LINK/USDT', 'WBTC/USDT', 'USDE/USDT', 'AVAX/USDT', 'SUI/USDT', 'XLM/USDT', 'BCH/USDT', 'HBAR/USDT', 'LTC/USDT', 'USDS/USDT', 'SHIB/USDT', 'TON/USDT', 'DOT/USDT', 'XMR/USDT', 'WLFI/USDT', 'UNI/USDT', 'DAI/USDT', 'AAVE/USDT', 'PEPE/USDT', 'ENA/USDT', 'NEAR/USDT', 'APT/USDT', 'TAO/USDT', 'ONDO/USDT', 'ETC/USDT', 'WLD/USDT', 'BNSOL/USDT', 'USD1/USDT', 'POL/USDT', 'PUMP/USDT', 'ICP/USDT', 'ARB/USDT', 'PENGU/USDT', 'ATOM/USDT', 'VET/USDT', 'ALGO/USDT', 'RENDER/USDT', 'SEI/USDT', 'XPL/USDT', 'BFUSD/USDT', 'SKY/USDT', 'BONK/USDT', 'FIL/USDT', 'FET/USDT', 'TRUMP/USDT', 'ZEC/USDT', 'QNT/USDT', 'JUP/USDT', 'IMX/USDT', 'NEXO/USDT', 'OP/USDT', 'INJ/USDT', 'PAXG/USDT', 'TIA/USDT', 'USDC/USDT', 'FDUSD/USDT', 'STX/USDT', 'LDO/USDT', 'S/USDT', 'CRV/USDT', 'WBTC/USDT', 'KAIA/USDT', 'CAKE/USDT', 'GRT/USDT', 'PYTH/USDT', 'FLOKI/USDT', 'PENDLE/USDT', 'CFX/USDT', 'RAY/USDT', 'WIF/USDT', 'ETHFI/USDT', 'XTZ/USDT', 'THETA/USDT', 'VIRTUAL/USDT', 'IOTA/USDT', 'GALA/USDT', 'ENS/USDT', 'SAND/USDT', 'A/USDT', 'JTO/USDT', 'JASMY/USDT', 'DOGE/USDT', 'STRK/USDT', 'DEXE/USDT', 'BTT/USDT', 'FLOW/USDT', 'MANA/USDT', '0G/USDT', 'EIGEN/USDT', 'TWT/USDT', 'W/USDT', 'BSV/USDT', 'HNT/USDT', 'TUSD/USDT', 'SUN/USDT', 'FF/USDT', 'DYDX/USDT', 'DAI/USDT', 'SYRUP/USDT', 'CHZ/USDT', 'APE/USDT', 'BEAM/USDT', 'NEO/USDT', 'RUNE/USDT', 'LINEA/USDT', 'COMP/USDT', 'FORM/USDT', 'GNO/USDT', 'ZK/USDT', 'EGLD/USDT', 'AR/USDT', 'SUPER/USDT', 'SNX/USDT', 'BERA/USDT', 'AXS/USDT', 'RSR/USDT', 'XEC/USDT', '1INCH/USDT', 'KAVA/USDT', 'KAITO/USDT', 'DASH/USDT', 'JST/USDT', 'BUSD/USDT', 'AVNT/USDT', 'AXL/USDT', 'LUNC/USDT', 'WBTC/USDT', 'BIO/USDT', 'MOVE/USDT', 'PLUME/USDT', 'DCR/USDT', 'LPT/USDT', 'CVX/USDT', 'TRIBE/USDT', 'EOS/USDT', 'AMP/USDT', 'ARKM/USDT', 'KSM/USDT', 'TURBO/USDT', 'SFP/USDT', 'SOL/USDT', 'AWE/USDT', 'QTUM/USDT', 'ZRO/USDT', 'TFUEL/USDT', 'ARK/USDT', 'GLM/USDT', 'BAT/USDT', 'IOTX/USDT', 'PNUT/USDT', 'ZIL/USDT', 'ZRX/USDT', 'KMNO/USDT', 'CKB/USDT', 'BARD/USDT', 'MINA/USDT', 'GAS/USDT', 'BLUR/USDT', 'ROSE/USDT', 'OM/USDT', 'YFI/USDT', 'RVN/USDT', 'SAHARA/USDT', 'ASTR/USDT', 'USDC/USDT', 'PROM/USDT', 'STG/USDT', 'ORDI/USDT', 'SOMI/USDT', 'GMX/USDT', 'NOT/USDT', 'HOT/USDT', 'T/USDT', 'VTHO/USDT', 'SKL/USDT', 'CELO/USDT', 'SC/USDT', 'ZEN/USDT', 'WBTC/USDT', 'POLYX/USDT', 'COW/USDT', 'ONE/USDT', 'PROVE/USDT', 'DGB/USDT', 'ELF/USDT', 'ANKR/USDT', 'MEME/USDT', 'OMNI/USDT', 'NMR/USDT', 'SUSHI/USDT', 'BABY/USDT', 'ILV/USDT', 'XUSD/USDT', 'WOO/USDT', 'MASK/USDT', 'NOM/USDT', 'ICX/USDT', 'ALT/USDT', 'MIRA/USDT', 'RED/USDT', 'GMT/USDT', 'KDA/USDT', 'ORCA/USDT', 'ENJ/USDT', 'VANA/USDT', 'IO/USDT', 'NEIRO/USDT', 'BOME/USDT', 'ONT/USDT']\n",
      "Fetching OHLCV for BTC/USDT...\n",
      "Failed BTC/USDT: 'LensConfig' object has no attribute 'binance_timeframe'\n",
      "Fetching OHLCV for ETH/USDT...\n",
      "Failed ETH/USDT: 'LensConfig' object has no attribute 'binance_timeframe'\n",
      "Fetching OHLCV for XRP/USDT...\n",
      "Failed XRP/USDT: 'LensConfig' object has no attribute 'binance_timeframe'\n",
      "Fetching OHLCV for BNB/USDT...\n",
      "Failed BNB/USDT: 'LensConfig' object has no attribute 'binance_timeframe'\n",
      "Fetching OHLCV for SOL/USDT...\n",
      "Failed SOL/USDT: 'LensConfig' object has no attribute 'binance_timeframe'\n",
      "Fetching OHLCV for USDC/USDT...\n",
      "Failed USDC/USDT: 'LensConfig' object has no attribute 'binance_timeframe'\n",
      "Fetching OHLCV for DOGE/USDT...\n",
      "Failed DOGE/USDT: 'LensConfig' object has no attribute 'binance_timeframe'\n",
      "Fetching OHLCV for TRX/USDT...\n",
      "Failed TRX/USDT: 'LensConfig' object has no attribute 'binance_timeframe'\n",
      "Fetching OHLCV for ADA/USDT...\n",
      "Failed ADA/USDT: 'LensConfig' object has no attribute 'binance_timeframe'\n",
      "Fetching OHLCV for WBETH/USDT...\n",
      "Failed WBETH/USDT: 'LensConfig' object has no attribute 'binance_timeframe'\n",
      "Fetching OHLCV for LINK/USDT...\n",
      "Failed LINK/USDT: 'LensConfig' object has no attribute 'binance_timeframe'\n",
      "Fetching OHLCV for WBTC/USDT...\n",
      "Failed WBTC/USDT: 'LensConfig' object has no attribute 'binance_timeframe'\n",
      "Fetching OHLCV for USDE/USDT...\n",
      "Failed USDE/USDT: 'LensConfig' object has no attribute 'binance_timeframe'\n",
      "Fetching OHLCV for AVAX/USDT...\n",
      "Failed AVAX/USDT: 'LensConfig' object has no attribute 'binance_timeframe'\n",
      "Fetching OHLCV for SUI/USDT...\n",
      "Failed SUI/USDT: 'LensConfig' object has no attribute 'binance_timeframe'\n",
      "Fetching OHLCV for XLM/USDT...\n",
      "Failed XLM/USDT: 'LensConfig' object has no attribute 'binance_timeframe'\n",
      "Fetching OHLCV for BCH/USDT...\n",
      "Failed BCH/USDT: 'LensConfig' object has no attribute 'binance_timeframe'\n",
      "Fetching OHLCV for HBAR/USDT...\n",
      "Failed HBAR/USDT: 'LensConfig' object has no attribute 'binance_timeframe'\n",
      "Fetching OHLCV for LTC/USDT...\n",
      "Failed LTC/USDT: 'LensConfig' object has no attribute 'binance_timeframe'\n",
      "Fetching OHLCV for USDS/USDT...\n",
      "Failed USDS/USDT: 'LensConfig' object has no attribute 'binance_timeframe'\n",
      "Fetching OHLCV for SHIB/USDT...\n",
      "Failed SHIB/USDT: 'LensConfig' object has no attribute 'binance_timeframe'\n",
      "Fetching OHLCV for TON/USDT...\n",
      "Failed TON/USDT: 'LensConfig' object has no attribute 'binance_timeframe'\n",
      "Fetching OHLCV for DOT/USDT...\n",
      "Failed DOT/USDT: 'LensConfig' object has no attribute 'binance_timeframe'\n",
      "Fetching OHLCV for XMR/USDT...\n",
      "Failed XMR/USDT: 'LensConfig' object has no attribute 'binance_timeframe'\n",
      "Fetching OHLCV for WLFI/USDT...\n",
      "Failed WLFI/USDT: 'LensConfig' object has no attribute 'binance_timeframe'\n",
      "Fetching OHLCV for UNI/USDT...\n",
      "Failed UNI/USDT: 'LensConfig' object has no attribute 'binance_timeframe'\n",
      "Fetching OHLCV for DAI/USDT...\n",
      "Failed DAI/USDT: 'LensConfig' object has no attribute 'binance_timeframe'\n",
      "Fetching OHLCV for AAVE/USDT...\n",
      "Failed AAVE/USDT: 'LensConfig' object has no attribute 'binance_timeframe'\n",
      "Fetching OHLCV for PEPE/USDT...\n",
      "Failed PEPE/USDT: 'LensConfig' object has no attribute 'binance_timeframe'\n",
      "Fetching OHLCV for ENA/USDT...\n",
      "Failed ENA/USDT: 'LensConfig' object has no attribute 'binance_timeframe'\n",
      "Fetching OHLCV for NEAR/USDT...\n",
      "Failed NEAR/USDT: 'LensConfig' object has no attribute 'binance_timeframe'\n",
      "Fetching OHLCV for APT/USDT...\n",
      "Failed APT/USDT: 'LensConfig' object has no attribute 'binance_timeframe'\n",
      "Fetching OHLCV for TAO/USDT...\n",
      "Failed TAO/USDT: 'LensConfig' object has no attribute 'binance_timeframe'\n",
      "Fetching OHLCV for ONDO/USDT...\n",
      "Failed ONDO/USDT: 'LensConfig' object has no attribute 'binance_timeframe'\n",
      "Fetching OHLCV for ETC/USDT...\n",
      "Failed ETC/USDT: 'LensConfig' object has no attribute 'binance_timeframe'\n",
      "Fetching OHLCV for WLD/USDT...\n",
      "Failed WLD/USDT: 'LensConfig' object has no attribute 'binance_timeframe'\n",
      "Fetching OHLCV for BNSOL/USDT...\n",
      "Failed BNSOL/USDT: 'LensConfig' object has no attribute 'binance_timeframe'\n",
      "Fetching OHLCV for USD1/USDT...\n",
      "Failed USD1/USDT: 'LensConfig' object has no attribute 'binance_timeframe'\n",
      "Fetching OHLCV for POL/USDT...\n",
      "Failed POL/USDT: 'LensConfig' object has no attribute 'binance_timeframe'\n",
      "Fetching OHLCV for PUMP/USDT...\n",
      "Failed PUMP/USDT: 'LensConfig' object has no attribute 'binance_timeframe'\n",
      "Fetching OHLCV for ICP/USDT...\n",
      "Failed ICP/USDT: 'LensConfig' object has no attribute 'binance_timeframe'\n",
      "Fetching OHLCV for ARB/USDT...\n",
      "Failed ARB/USDT: 'LensConfig' object has no attribute 'binance_timeframe'\n",
      "Fetching OHLCV for PENGU/USDT...\n",
      "Failed PENGU/USDT: 'LensConfig' object has no attribute 'binance_timeframe'\n",
      "Fetching OHLCV for ATOM/USDT...\n",
      "Failed ATOM/USDT: 'LensConfig' object has no attribute 'binance_timeframe'\n",
      "Fetching OHLCV for VET/USDT...\n",
      "Failed VET/USDT: 'LensConfig' object has no attribute 'binance_timeframe'\n",
      "Fetching OHLCV for ALGO/USDT...\n",
      "Failed ALGO/USDT: 'LensConfig' object has no attribute 'binance_timeframe'\n",
      "Fetching OHLCV for RENDER/USDT...\n",
      "Failed RENDER/USDT: 'LensConfig' object has no attribute 'binance_timeframe'\n",
      "Fetching OHLCV for SEI/USDT...\n",
      "Failed SEI/USDT: 'LensConfig' object has no attribute 'binance_timeframe'\n",
      "Fetching OHLCV for XPL/USDT...\n",
      "Failed XPL/USDT: 'LensConfig' object has no attribute 'binance_timeframe'\n",
      "Fetching OHLCV for BFUSD/USDT...\n",
      "Failed BFUSD/USDT: 'LensConfig' object has no attribute 'binance_timeframe'\n",
      "Fetching OHLCV for SKY/USDT...\n",
      "Failed SKY/USDT: 'LensConfig' object has no attribute 'binance_timeframe'\n",
      "Fetching OHLCV for BONK/USDT...\n",
      "Failed BONK/USDT: 'LensConfig' object has no attribute 'binance_timeframe'\n",
      "Fetching OHLCV for FIL/USDT...\n",
      "Failed FIL/USDT: 'LensConfig' object has no attribute 'binance_timeframe'\n",
      "Fetching OHLCV for FET/USDT...\n",
      "Failed FET/USDT: 'LensConfig' object has no attribute 'binance_timeframe'\n",
      "Fetching OHLCV for TRUMP/USDT...\n",
      "Failed TRUMP/USDT: 'LensConfig' object has no attribute 'binance_timeframe'\n",
      "Fetching OHLCV for ZEC/USDT...\n",
      "Failed ZEC/USDT: 'LensConfig' object has no attribute 'binance_timeframe'\n",
      "Fetching OHLCV for QNT/USDT...\n",
      "Failed QNT/USDT: 'LensConfig' object has no attribute 'binance_timeframe'\n",
      "Fetching OHLCV for JUP/USDT...\n",
      "Failed JUP/USDT: 'LensConfig' object has no attribute 'binance_timeframe'\n",
      "Fetching OHLCV for IMX/USDT...\n",
      "Failed IMX/USDT: 'LensConfig' object has no attribute 'binance_timeframe'\n",
      "Fetching OHLCV for NEXO/USDT...\n",
      "Failed NEXO/USDT: 'LensConfig' object has no attribute 'binance_timeframe'\n",
      "Fetching OHLCV for OP/USDT...\n",
      "Failed OP/USDT: 'LensConfig' object has no attribute 'binance_timeframe'\n",
      "Fetching OHLCV for INJ/USDT...\n",
      "Failed INJ/USDT: 'LensConfig' object has no attribute 'binance_timeframe'\n",
      "Fetching OHLCV for PAXG/USDT...\n",
      "Failed PAXG/USDT: 'LensConfig' object has no attribute 'binance_timeframe'\n",
      "Fetching OHLCV for TIA/USDT...\n",
      "Failed TIA/USDT: 'LensConfig' object has no attribute 'binance_timeframe'\n",
      "Fetching OHLCV for USDC/USDT...\n",
      "Failed USDC/USDT: 'LensConfig' object has no attribute 'binance_timeframe'\n",
      "Fetching OHLCV for FDUSD/USDT...\n",
      "Failed FDUSD/USDT: 'LensConfig' object has no attribute 'binance_timeframe'\n",
      "Fetching OHLCV for STX/USDT...\n",
      "Failed STX/USDT: 'LensConfig' object has no attribute 'binance_timeframe'\n",
      "Fetching OHLCV for LDO/USDT...\n",
      "Failed LDO/USDT: 'LensConfig' object has no attribute 'binance_timeframe'\n",
      "Fetching OHLCV for S/USDT...\n",
      "Failed S/USDT: 'LensConfig' object has no attribute 'binance_timeframe'\n",
      "Fetching OHLCV for CRV/USDT...\n",
      "Failed CRV/USDT: 'LensConfig' object has no attribute 'binance_timeframe'\n",
      "Fetching OHLCV for WBTC/USDT...\n",
      "Failed WBTC/USDT: 'LensConfig' object has no attribute 'binance_timeframe'\n",
      "Fetching OHLCV for KAIA/USDT...\n",
      "Failed KAIA/USDT: 'LensConfig' object has no attribute 'binance_timeframe'\n",
      "Fetching OHLCV for CAKE/USDT...\n",
      "Failed CAKE/USDT: 'LensConfig' object has no attribute 'binance_timeframe'\n",
      "Fetching OHLCV for GRT/USDT...\n",
      "Failed GRT/USDT: 'LensConfig' object has no attribute 'binance_timeframe'\n",
      "Fetching OHLCV for PYTH/USDT...\n",
      "Failed PYTH/USDT: 'LensConfig' object has no attribute 'binance_timeframe'\n",
      "Fetching OHLCV for FLOKI/USDT...\n",
      "Failed FLOKI/USDT: 'LensConfig' object has no attribute 'binance_timeframe'\n",
      "Fetching OHLCV for PENDLE/USDT...\n",
      "Failed PENDLE/USDT: 'LensConfig' object has no attribute 'binance_timeframe'\n",
      "Fetching OHLCV for CFX/USDT...\n",
      "Failed CFX/USDT: 'LensConfig' object has no attribute 'binance_timeframe'\n",
      "Fetching OHLCV for RAY/USDT...\n",
      "Failed RAY/USDT: 'LensConfig' object has no attribute 'binance_timeframe'\n",
      "Fetching OHLCV for WIF/USDT...\n",
      "Failed WIF/USDT: 'LensConfig' object has no attribute 'binance_timeframe'\n",
      "Fetching OHLCV for ETHFI/USDT...\n",
      "Failed ETHFI/USDT: 'LensConfig' object has no attribute 'binance_timeframe'\n",
      "Fetching OHLCV for XTZ/USDT...\n",
      "Failed XTZ/USDT: 'LensConfig' object has no attribute 'binance_timeframe'\n",
      "Fetching OHLCV for THETA/USDT...\n",
      "Failed THETA/USDT: 'LensConfig' object has no attribute 'binance_timeframe'\n",
      "Fetching OHLCV for VIRTUAL/USDT...\n",
      "Failed VIRTUAL/USDT: 'LensConfig' object has no attribute 'binance_timeframe'\n",
      "Fetching OHLCV for IOTA/USDT...\n",
      "Failed IOTA/USDT: 'LensConfig' object has no attribute 'binance_timeframe'\n",
      "Fetching OHLCV for GALA/USDT...\n",
      "Failed GALA/USDT: 'LensConfig' object has no attribute 'binance_timeframe'\n",
      "Fetching OHLCV for ENS/USDT...\n",
      "Failed ENS/USDT: 'LensConfig' object has no attribute 'binance_timeframe'\n",
      "Fetching OHLCV for SAND/USDT...\n",
      "Failed SAND/USDT: 'LensConfig' object has no attribute 'binance_timeframe'\n",
      "Fetching OHLCV for A/USDT...\n",
      "Failed A/USDT: 'LensConfig' object has no attribute 'binance_timeframe'\n",
      "Fetching OHLCV for JTO/USDT...\n",
      "Failed JTO/USDT: 'LensConfig' object has no attribute 'binance_timeframe'\n",
      "Fetching OHLCV for JASMY/USDT...\n",
      "Failed JASMY/USDT: 'LensConfig' object has no attribute 'binance_timeframe'\n",
      "Fetching OHLCV for DOGE/USDT...\n",
      "Failed DOGE/USDT: 'LensConfig' object has no attribute 'binance_timeframe'\n",
      "Fetching OHLCV for STRK/USDT...\n",
      "Failed STRK/USDT: 'LensConfig' object has no attribute 'binance_timeframe'\n",
      "Fetching OHLCV for DEXE/USDT...\n",
      "Failed DEXE/USDT: 'LensConfig' object has no attribute 'binance_timeframe'\n",
      "Fetching OHLCV for BTT/USDT...\n",
      "Failed BTT/USDT: 'LensConfig' object has no attribute 'binance_timeframe'\n",
      "Fetching OHLCV for FLOW/USDT...\n",
      "Failed FLOW/USDT: 'LensConfig' object has no attribute 'binance_timeframe'\n",
      "Fetching OHLCV for MANA/USDT...\n",
      "Failed MANA/USDT: 'LensConfig' object has no attribute 'binance_timeframe'\n",
      "Fetching OHLCV for 0G/USDT...\n",
      "Failed 0G/USDT: 'LensConfig' object has no attribute 'binance_timeframe'\n",
      "Fetching OHLCV for EIGEN/USDT...\n",
      "Failed EIGEN/USDT: 'LensConfig' object has no attribute 'binance_timeframe'\n",
      "Fetching OHLCV for TWT/USDT...\n",
      "Failed TWT/USDT: 'LensConfig' object has no attribute 'binance_timeframe'\n",
      "Fetching OHLCV for W/USDT...\n",
      "Failed W/USDT: 'LensConfig' object has no attribute 'binance_timeframe'\n",
      "Fetching OHLCV for BSV/USDT...\n",
      "Failed BSV/USDT: 'LensConfig' object has no attribute 'binance_timeframe'\n",
      "Fetching OHLCV for HNT/USDT...\n",
      "Failed HNT/USDT: 'LensConfig' object has no attribute 'binance_timeframe'\n",
      "Fetching OHLCV for TUSD/USDT...\n",
      "Failed TUSD/USDT: 'LensConfig' object has no attribute 'binance_timeframe'\n",
      "Fetching OHLCV for SUN/USDT...\n",
      "Failed SUN/USDT: 'LensConfig' object has no attribute 'binance_timeframe'\n",
      "Fetching OHLCV for FF/USDT...\n",
      "Failed FF/USDT: 'LensConfig' object has no attribute 'binance_timeframe'\n",
      "Fetching OHLCV for DYDX/USDT...\n",
      "Failed DYDX/USDT: 'LensConfig' object has no attribute 'binance_timeframe'\n",
      "Fetching OHLCV for DAI/USDT...\n",
      "Failed DAI/USDT: 'LensConfig' object has no attribute 'binance_timeframe'\n",
      "Fetching OHLCV for SYRUP/USDT...\n",
      "Failed SYRUP/USDT: 'LensConfig' object has no attribute 'binance_timeframe'\n",
      "Fetching OHLCV for CHZ/USDT...\n",
      "Failed CHZ/USDT: 'LensConfig' object has no attribute 'binance_timeframe'\n",
      "Fetching OHLCV for APE/USDT...\n",
      "Failed APE/USDT: 'LensConfig' object has no attribute 'binance_timeframe'\n",
      "Fetching OHLCV for BEAM/USDT...\n",
      "Failed BEAM/USDT: 'LensConfig' object has no attribute 'binance_timeframe'\n",
      "Fetching OHLCV for NEO/USDT...\n",
      "Failed NEO/USDT: 'LensConfig' object has no attribute 'binance_timeframe'\n",
      "Fetching OHLCV for RUNE/USDT...\n",
      "Failed RUNE/USDT: 'LensConfig' object has no attribute 'binance_timeframe'\n",
      "Fetching OHLCV for LINEA/USDT...\n",
      "Failed LINEA/USDT: 'LensConfig' object has no attribute 'binance_timeframe'\n",
      "Fetching OHLCV for COMP/USDT...\n",
      "Failed COMP/USDT: 'LensConfig' object has no attribute 'binance_timeframe'\n",
      "Fetching OHLCV for FORM/USDT...\n",
      "Failed FORM/USDT: 'LensConfig' object has no attribute 'binance_timeframe'\n",
      "Fetching OHLCV for GNO/USDT...\n",
      "Failed GNO/USDT: 'LensConfig' object has no attribute 'binance_timeframe'\n",
      "Fetching OHLCV for ZK/USDT...\n",
      "Failed ZK/USDT: 'LensConfig' object has no attribute 'binance_timeframe'\n",
      "Fetching OHLCV for EGLD/USDT...\n",
      "Failed EGLD/USDT: 'LensConfig' object has no attribute 'binance_timeframe'\n",
      "Fetching OHLCV for AR/USDT...\n",
      "Failed AR/USDT: 'LensConfig' object has no attribute 'binance_timeframe'\n",
      "Fetching OHLCV for SUPER/USDT...\n",
      "Failed SUPER/USDT: 'LensConfig' object has no attribute 'binance_timeframe'\n",
      "Fetching OHLCV for SNX/USDT...\n",
      "Failed SNX/USDT: 'LensConfig' object has no attribute 'binance_timeframe'\n",
      "Fetching OHLCV for BERA/USDT...\n",
      "Failed BERA/USDT: 'LensConfig' object has no attribute 'binance_timeframe'\n",
      "Fetching OHLCV for AXS/USDT...\n",
      "Failed AXS/USDT: 'LensConfig' object has no attribute 'binance_timeframe'\n",
      "Fetching OHLCV for RSR/USDT...\n",
      "Failed RSR/USDT: 'LensConfig' object has no attribute 'binance_timeframe'\n",
      "Fetching OHLCV for XEC/USDT...\n",
      "Failed XEC/USDT: 'LensConfig' object has no attribute 'binance_timeframe'\n",
      "Fetching OHLCV for 1INCH/USDT...\n",
      "Failed 1INCH/USDT: 'LensConfig' object has no attribute 'binance_timeframe'\n",
      "Fetching OHLCV for KAVA/USDT...\n",
      "Failed KAVA/USDT: 'LensConfig' object has no attribute 'binance_timeframe'\n",
      "Fetching OHLCV for KAITO/USDT...\n",
      "Failed KAITO/USDT: 'LensConfig' object has no attribute 'binance_timeframe'\n",
      "Fetching OHLCV for DASH/USDT...\n",
      "Failed DASH/USDT: 'LensConfig' object has no attribute 'binance_timeframe'\n",
      "Fetching OHLCV for JST/USDT...\n",
      "Failed JST/USDT: 'LensConfig' object has no attribute 'binance_timeframe'\n",
      "Fetching OHLCV for BUSD/USDT...\n",
      "Failed BUSD/USDT: 'LensConfig' object has no attribute 'binance_timeframe'\n",
      "Fetching OHLCV for AVNT/USDT...\n",
      "Failed AVNT/USDT: 'LensConfig' object has no attribute 'binance_timeframe'\n",
      "Fetching OHLCV for AXL/USDT...\n",
      "Failed AXL/USDT: 'LensConfig' object has no attribute 'binance_timeframe'\n",
      "Fetching OHLCV for LUNC/USDT...\n",
      "Failed LUNC/USDT: 'LensConfig' object has no attribute 'binance_timeframe'\n",
      "Fetching OHLCV for WBTC/USDT...\n",
      "Failed WBTC/USDT: 'LensConfig' object has no attribute 'binance_timeframe'\n",
      "Fetching OHLCV for BIO/USDT...\n",
      "Failed BIO/USDT: 'LensConfig' object has no attribute 'binance_timeframe'\n",
      "Fetching OHLCV for MOVE/USDT...\n",
      "Failed MOVE/USDT: 'LensConfig' object has no attribute 'binance_timeframe'\n",
      "Fetching OHLCV for PLUME/USDT...\n",
      "Failed PLUME/USDT: 'LensConfig' object has no attribute 'binance_timeframe'\n",
      "Fetching OHLCV for DCR/USDT...\n",
      "Failed DCR/USDT: 'LensConfig' object has no attribute 'binance_timeframe'\n",
      "Fetching OHLCV for LPT/USDT...\n",
      "Failed LPT/USDT: 'LensConfig' object has no attribute 'binance_timeframe'\n",
      "Fetching OHLCV for CVX/USDT...\n",
      "Failed CVX/USDT: 'LensConfig' object has no attribute 'binance_timeframe'\n",
      "Fetching OHLCV for TRIBE/USDT...\n",
      "Failed TRIBE/USDT: 'LensConfig' object has no attribute 'binance_timeframe'\n",
      "Fetching OHLCV for EOS/USDT...\n",
      "Failed EOS/USDT: 'LensConfig' object has no attribute 'binance_timeframe'\n",
      "Fetching OHLCV for AMP/USDT...\n",
      "Failed AMP/USDT: 'LensConfig' object has no attribute 'binance_timeframe'\n",
      "Fetching OHLCV for ARKM/USDT...\n",
      "Failed ARKM/USDT: 'LensConfig' object has no attribute 'binance_timeframe'\n",
      "Fetching OHLCV for KSM/USDT...\n",
      "Failed KSM/USDT: 'LensConfig' object has no attribute 'binance_timeframe'\n",
      "Fetching OHLCV for TURBO/USDT...\n",
      "Failed TURBO/USDT: 'LensConfig' object has no attribute 'binance_timeframe'\n",
      "Fetching OHLCV for SFP/USDT...\n",
      "Failed SFP/USDT: 'LensConfig' object has no attribute 'binance_timeframe'\n",
      "Fetching OHLCV for SOL/USDT...\n",
      "Failed SOL/USDT: 'LensConfig' object has no attribute 'binance_timeframe'\n",
      "Fetching OHLCV for AWE/USDT...\n",
      "Failed AWE/USDT: 'LensConfig' object has no attribute 'binance_timeframe'\n",
      "Fetching OHLCV for QTUM/USDT...\n",
      "Failed QTUM/USDT: 'LensConfig' object has no attribute 'binance_timeframe'\n",
      "Fetching OHLCV for ZRO/USDT...\n",
      "Failed ZRO/USDT: 'LensConfig' object has no attribute 'binance_timeframe'\n",
      "Fetching OHLCV for TFUEL/USDT...\n",
      "Failed TFUEL/USDT: 'LensConfig' object has no attribute 'binance_timeframe'\n",
      "Fetching OHLCV for ARK/USDT...\n",
      "Failed ARK/USDT: 'LensConfig' object has no attribute 'binance_timeframe'\n",
      "Fetching OHLCV for GLM/USDT...\n",
      "Failed GLM/USDT: 'LensConfig' object has no attribute 'binance_timeframe'\n",
      "Fetching OHLCV for BAT/USDT...\n",
      "Failed BAT/USDT: 'LensConfig' object has no attribute 'binance_timeframe'\n",
      "Fetching OHLCV for IOTX/USDT...\n",
      "Failed IOTX/USDT: 'LensConfig' object has no attribute 'binance_timeframe'\n",
      "Fetching OHLCV for PNUT/USDT...\n",
      "Failed PNUT/USDT: 'LensConfig' object has no attribute 'binance_timeframe'\n",
      "Fetching OHLCV for ZIL/USDT...\n",
      "Failed ZIL/USDT: 'LensConfig' object has no attribute 'binance_timeframe'\n",
      "Fetching OHLCV for ZRX/USDT...\n",
      "Failed ZRX/USDT: 'LensConfig' object has no attribute 'binance_timeframe'\n",
      "Fetching OHLCV for KMNO/USDT...\n",
      "Failed KMNO/USDT: 'LensConfig' object has no attribute 'binance_timeframe'\n",
      "Fetching OHLCV for CKB/USDT...\n",
      "Failed CKB/USDT: 'LensConfig' object has no attribute 'binance_timeframe'\n",
      "Fetching OHLCV for BARD/USDT...\n",
      "Failed BARD/USDT: 'LensConfig' object has no attribute 'binance_timeframe'\n",
      "Fetching OHLCV for MINA/USDT...\n",
      "Failed MINA/USDT: 'LensConfig' object has no attribute 'binance_timeframe'\n",
      "Fetching OHLCV for GAS/USDT...\n",
      "Failed GAS/USDT: 'LensConfig' object has no attribute 'binance_timeframe'\n",
      "Fetching OHLCV for BLUR/USDT...\n",
      "Failed BLUR/USDT: 'LensConfig' object has no attribute 'binance_timeframe'\n",
      "Fetching OHLCV for ROSE/USDT...\n",
      "Failed ROSE/USDT: 'LensConfig' object has no attribute 'binance_timeframe'\n",
      "Fetching OHLCV for OM/USDT...\n",
      "Failed OM/USDT: 'LensConfig' object has no attribute 'binance_timeframe'\n",
      "Fetching OHLCV for YFI/USDT...\n",
      "Failed YFI/USDT: 'LensConfig' object has no attribute 'binance_timeframe'\n",
      "Fetching OHLCV for RVN/USDT...\n",
      "Failed RVN/USDT: 'LensConfig' object has no attribute 'binance_timeframe'\n",
      "Fetching OHLCV for SAHARA/USDT...\n",
      "Failed SAHARA/USDT: 'LensConfig' object has no attribute 'binance_timeframe'\n",
      "Fetching OHLCV for ASTR/USDT...\n",
      "Failed ASTR/USDT: 'LensConfig' object has no attribute 'binance_timeframe'\n",
      "Fetching OHLCV for USDC/USDT...\n",
      "Failed USDC/USDT: 'LensConfig' object has no attribute 'binance_timeframe'\n",
      "Fetching OHLCV for PROM/USDT...\n",
      "Failed PROM/USDT: 'LensConfig' object has no attribute 'binance_timeframe'\n",
      "Fetching OHLCV for STG/USDT...\n",
      "Failed STG/USDT: 'LensConfig' object has no attribute 'binance_timeframe'\n",
      "Fetching OHLCV for ORDI/USDT...\n",
      "Failed ORDI/USDT: 'LensConfig' object has no attribute 'binance_timeframe'\n",
      "Fetching OHLCV for SOMI/USDT...\n",
      "Failed SOMI/USDT: 'LensConfig' object has no attribute 'binance_timeframe'\n",
      "Fetching OHLCV for GMX/USDT...\n",
      "Failed GMX/USDT: 'LensConfig' object has no attribute 'binance_timeframe'\n",
      "Fetching OHLCV for NOT/USDT...\n",
      "Failed NOT/USDT: 'LensConfig' object has no attribute 'binance_timeframe'\n",
      "Fetching OHLCV for HOT/USDT...\n",
      "Failed HOT/USDT: 'LensConfig' object has no attribute 'binance_timeframe'\n",
      "Fetching OHLCV for T/USDT...\n",
      "Failed T/USDT: 'LensConfig' object has no attribute 'binance_timeframe'\n",
      "Fetching OHLCV for VTHO/USDT...\n",
      "Failed VTHO/USDT: 'LensConfig' object has no attribute 'binance_timeframe'\n",
      "Fetching OHLCV for SKL/USDT...\n",
      "Failed SKL/USDT: 'LensConfig' object has no attribute 'binance_timeframe'\n",
      "Fetching OHLCV for CELO/USDT...\n",
      "Failed CELO/USDT: 'LensConfig' object has no attribute 'binance_timeframe'\n",
      "Fetching OHLCV for SC/USDT...\n",
      "Failed SC/USDT: 'LensConfig' object has no attribute 'binance_timeframe'\n",
      "Fetching OHLCV for ZEN/USDT...\n",
      "Failed ZEN/USDT: 'LensConfig' object has no attribute 'binance_timeframe'\n",
      "Fetching OHLCV for WBTC/USDT...\n",
      "Failed WBTC/USDT: 'LensConfig' object has no attribute 'binance_timeframe'\n",
      "Fetching OHLCV for POLYX/USDT...\n",
      "Failed POLYX/USDT: 'LensConfig' object has no attribute 'binance_timeframe'\n",
      "Fetching OHLCV for COW/USDT...\n",
      "Failed COW/USDT: 'LensConfig' object has no attribute 'binance_timeframe'\n",
      "Fetching OHLCV for ONE/USDT...\n",
      "Failed ONE/USDT: 'LensConfig' object has no attribute 'binance_timeframe'\n",
      "Fetching OHLCV for PROVE/USDT...\n",
      "Failed PROVE/USDT: 'LensConfig' object has no attribute 'binance_timeframe'\n",
      "Fetching OHLCV for DGB/USDT...\n",
      "Failed DGB/USDT: 'LensConfig' object has no attribute 'binance_timeframe'\n",
      "Fetching OHLCV for ELF/USDT...\n",
      "Failed ELF/USDT: 'LensConfig' object has no attribute 'binance_timeframe'\n",
      "Fetching OHLCV for ANKR/USDT...\n",
      "Failed ANKR/USDT: 'LensConfig' object has no attribute 'binance_timeframe'\n",
      "Fetching OHLCV for MEME/USDT...\n",
      "Failed MEME/USDT: 'LensConfig' object has no attribute 'binance_timeframe'\n",
      "Fetching OHLCV for OMNI/USDT...\n",
      "Failed OMNI/USDT: 'LensConfig' object has no attribute 'binance_timeframe'\n",
      "Fetching OHLCV for NMR/USDT...\n",
      "Failed NMR/USDT: 'LensConfig' object has no attribute 'binance_timeframe'\n",
      "Fetching OHLCV for SUSHI/USDT...\n",
      "Failed SUSHI/USDT: 'LensConfig' object has no attribute 'binance_timeframe'\n",
      "Fetching OHLCV for BABY/USDT...\n",
      "Failed BABY/USDT: 'LensConfig' object has no attribute 'binance_timeframe'\n",
      "Fetching OHLCV for ILV/USDT...\n",
      "Failed ILV/USDT: 'LensConfig' object has no attribute 'binance_timeframe'\n",
      "Fetching OHLCV for XUSD/USDT...\n",
      "Failed XUSD/USDT: 'LensConfig' object has no attribute 'binance_timeframe'\n",
      "Fetching OHLCV for WOO/USDT...\n",
      "Failed WOO/USDT: 'LensConfig' object has no attribute 'binance_timeframe'\n",
      "Fetching OHLCV for MASK/USDT...\n",
      "Failed MASK/USDT: 'LensConfig' object has no attribute 'binance_timeframe'\n",
      "Fetching OHLCV for NOM/USDT...\n",
      "Failed NOM/USDT: 'LensConfig' object has no attribute 'binance_timeframe'\n",
      "Fetching OHLCV for ICX/USDT...\n",
      "Failed ICX/USDT: 'LensConfig' object has no attribute 'binance_timeframe'\n",
      "Fetching OHLCV for ALT/USDT...\n",
      "Failed ALT/USDT: 'LensConfig' object has no attribute 'binance_timeframe'\n",
      "Fetching OHLCV for MIRA/USDT...\n",
      "Failed MIRA/USDT: 'LensConfig' object has no attribute 'binance_timeframe'\n",
      "Fetching OHLCV for RED/USDT...\n",
      "Failed RED/USDT: 'LensConfig' object has no attribute 'binance_timeframe'\n",
      "Fetching OHLCV for GMT/USDT...\n",
      "Failed GMT/USDT: 'LensConfig' object has no attribute 'binance_timeframe'\n",
      "Fetching OHLCV for KDA/USDT...\n",
      "Failed KDA/USDT: 'LensConfig' object has no attribute 'binance_timeframe'\n",
      "Fetching OHLCV for ORCA/USDT...\n",
      "Failed ORCA/USDT: 'LensConfig' object has no attribute 'binance_timeframe'\n",
      "Fetching OHLCV for ENJ/USDT...\n",
      "Failed ENJ/USDT: 'LensConfig' object has no attribute 'binance_timeframe'\n",
      "Fetching OHLCV for VANA/USDT...\n",
      "Failed VANA/USDT: 'LensConfig' object has no attribute 'binance_timeframe'\n",
      "Fetching OHLCV for IO/USDT...\n",
      "Failed IO/USDT: 'LensConfig' object has no attribute 'binance_timeframe'\n",
      "Fetching OHLCV for NEIRO/USDT...\n",
      "Failed NEIRO/USDT: 'LensConfig' object has no attribute 'binance_timeframe'\n",
      "Fetching OHLCV for BOME/USDT...\n",
      "Failed BOME/USDT: 'LensConfig' object has no attribute 'binance_timeframe'\n",
      "Fetching OHLCV for ONT/USDT...\n",
      "Failed ONT/USDT: 'LensConfig' object has no attribute 'binance_timeframe'\n"
     ]
    }
   ],
   "source": [
    "# --- Load config ---\n",
    "cfg = LensConfig()\n",
    "\n",
    "# --- CoinGecko ---\n",
    "cg = CoinGeckoDownloader(cfg)\n",
    "universe = cg.fetch_top_universe(cfg.cg_top_n)\n",
    "cg_files = cg.fetch_and_save_all()\n",
    "\n",
    "# --- Filter and map symbols ---\n",
    "cfg.binance_symbols = cg.universe_to_binance_symbols(universe)\n",
    "print(f\"Filtered Binance symbols: {cfg.binance_symbols}\")\n",
    "\n",
    "# --- Binance ---\n",
    "binance = BinanceDownloader(cfg)\n",
    "binance_files = binance.fetch_and_save()"
   ]
  },
  {
   "cell_type": "markdown",
   "id": "307ae826",
   "metadata": {},
   "source": [
    "Merging :"
   ]
  },
  {
   "cell_type": "code",
   "execution_count": 14,
   "id": "92ea2b68",
   "metadata": {},
   "outputs": [
    {
     "name": "stdout",
     "output_type": "stream",
     "text": [
      "CG file sample: data/data_Last_4_Years\\coingecko\\0g_zero-gravity.csv\n",
      "Index(['date', 'price', 'market_cap', 'volume', 'circulating_supply',\n",
      "       'total_supply', 'max_supply', 'market_cap_rank', 'symbol'],\n",
      "      dtype='object')\n",
      "BN file sample: data/data_Last_4_Years\\binance\\ohlcv_2024-11.csv\n",
      "Index(['rank', 'symbol', 'name', 'exchange', 'exchange_symbol', 'time', 'open',\n",
      "       'high', 'low', 'close', 'volume', 'month_start', 'snapshot_date'],\n",
      "      dtype='object')\n"
     ]
    }
   ],
   "source": [
    "import pandas as pd\n",
    "\n",
    "print(\"CG file sample:\", cg_files[0])\n",
    "print(pd.read_csv(cg_files[0], nrows=5).columns)\n",
    "\n",
    "print(\"BN file sample:\", bn_files[0])\n",
    "print(pd.read_csv(bn_files[0], nrows=5).columns)\n"
   ]
  },
  {
   "cell_type": "code",
   "execution_count": 15,
   "id": "486a43e3",
   "metadata": {},
   "outputs": [
    {
     "ename": "NameError",
     "evalue": "name 'bn_df' is not defined",
     "output_type": "error",
     "traceback": [
      "\u001b[1;31m---------------------------------------------------------------------------\u001b[0m",
      "\u001b[1;31mNameError\u001b[0m                                 Traceback (most recent call last)",
      "Cell \u001b[1;32mIn[15], line 2\u001b[0m\n\u001b[0;32m      1\u001b[0m \u001b[38;5;66;03m# Standardize columns before merging\u001b[39;00m\n\u001b[1;32m----> 2\u001b[0m \u001b[38;5;28;01mif\u001b[39;00m \u001b[38;5;124m\"\u001b[39m\u001b[38;5;124mtime\u001b[39m\u001b[38;5;124m\"\u001b[39m \u001b[38;5;129;01min\u001b[39;00m bn_df\u001b[38;5;241m.\u001b[39mcolumns:\n\u001b[0;32m      3\u001b[0m     bn_df \u001b[38;5;241m=\u001b[39m bn_df\u001b[38;5;241m.\u001b[39mrename(columns\u001b[38;5;241m=\u001b[39m{\u001b[38;5;124m\"\u001b[39m\u001b[38;5;124mtime\u001b[39m\u001b[38;5;124m\"\u001b[39m: \u001b[38;5;124m\"\u001b[39m\u001b[38;5;124mdate\u001b[39m\u001b[38;5;124m\"\u001b[39m})\n\u001b[0;32m      4\u001b[0m \u001b[38;5;28;01melif\u001b[39;00m \u001b[38;5;124m\"\u001b[39m\u001b[38;5;124msnapshot_date\u001b[39m\u001b[38;5;124m\"\u001b[39m \u001b[38;5;129;01min\u001b[39;00m bn_df\u001b[38;5;241m.\u001b[39mcolumns:\n",
      "\u001b[1;31mNameError\u001b[0m: name 'bn_df' is not defined"
     ]
    }
   ],
   "source": [
    "# Standardize columns before merging\n",
    "if \"time\" in bn_df.columns:\n",
    "    bn_df = bn_df.rename(columns={\"time\": \"date\"})\n",
    "elif \"snapshot_date\" in bn_df.columns:\n",
    "    bn_df = bn_df.rename(columns={\"snapshot_date\": \"date\"})\n",
    "\n",
    "# Make sure it's datetime\n",
    "bn_df[\"date\"] = pd.to_datetime(bn_df[\"date\"]).dt.date\n",
    "cg_df[\"date\"] = pd.to_datetime(cg_df[\"date\"]).dt.date\n"
   ]
  },
  {
   "cell_type": "code",
   "execution_count": null,
   "id": "88d8ff65",
   "metadata": {},
   "outputs": [],
   "source": [
    "import os, glob\n",
    "from Data_Downloader.data_manager import DataManager\n",
    "\n",
    "# Paths\n",
    "BASE_DIR = \"data/data_Last_4_Years\"\n",
    "CG_DIR = os.path.join(BASE_DIR, \"coingecko\")\n",
    "BN_DIR = os.path.join(BASE_DIR, \"binance\")\n",
    "\n",
    "cg_files = glob.glob(os.path.join(CG_DIR, \"*.csv\"))\n",
    "bn_files = glob.glob(os.path.join(BN_DIR, \"*.csv\"))\n",
    "\n",
    "manager = DataManager(outdir=BASE_DIR)\n",
    "merged = manager.merge_sources(cg_files, bn_files, save=True, filename=\"merged_sources.csv\")\n",
    "\n",
    "print(\"✅ Merged dataset shape:\", merged.shape)\n",
    "display(merged.head())\n",
    "\n"
   ]
  },
  {
   "cell_type": "code",
   "execution_count": 12,
   "id": "7fe5ad43",
   "metadata": {},
   "outputs": [
    {
     "ename": "NameError",
     "evalue": "name 'merged' is not defined",
     "output_type": "error",
     "traceback": [
      "\u001b[1;31m---------------------------------------------------------------------------\u001b[0m",
      "\u001b[1;31mNameError\u001b[0m                                 Traceback (most recent call last)",
      "Cell \u001b[1;32mIn[12], line 4\u001b[0m\n\u001b[0;32m      1\u001b[0m \u001b[38;5;28;01mimport\u001b[39;00m \u001b[38;5;21;01mplotly\u001b[39;00m\u001b[38;5;21;01m.\u001b[39;00m\u001b[38;5;21;01mgraph_objects\u001b[39;00m \u001b[38;5;28;01mas\u001b[39;00m \u001b[38;5;21;01mgo\u001b[39;00m\n\u001b[0;32m      3\u001b[0m \u001b[38;5;66;03m# Count non-null values\u001b[39;00m\n\u001b[1;32m----> 4\u001b[0m cg_cols \u001b[38;5;241m=\u001b[39m [c \u001b[38;5;28;01mfor\u001b[39;00m c \u001b[38;5;129;01min\u001b[39;00m merged\u001b[38;5;241m.\u001b[39mcolumns \u001b[38;5;28;01mif\u001b[39;00m c\u001b[38;5;241m.\u001b[39mendswith(\u001b[38;5;124m\"\u001b[39m\u001b[38;5;124m_cg\u001b[39m\u001b[38;5;124m\"\u001b[39m)]\n\u001b[0;32m      5\u001b[0m bn_cols \u001b[38;5;241m=\u001b[39m [c \u001b[38;5;28;01mfor\u001b[39;00m c \u001b[38;5;129;01min\u001b[39;00m merged\u001b[38;5;241m.\u001b[39mcolumns \u001b[38;5;28;01mif\u001b[39;00m c\u001b[38;5;241m.\u001b[39mendswith(\u001b[38;5;124m\"\u001b[39m\u001b[38;5;124m_binance\u001b[39m\u001b[38;5;124m\"\u001b[39m)]\n\u001b[0;32m      7\u001b[0m cg_count \u001b[38;5;241m=\u001b[39m merged[cg_cols]\u001b[38;5;241m.\u001b[39mnotna()\u001b[38;5;241m.\u001b[39msum()\u001b[38;5;241m.\u001b[39msum()\n",
      "\u001b[1;31mNameError\u001b[0m: name 'merged' is not defined"
     ]
    }
   ],
   "source": [
    "import plotly.graph_objects as go\n",
    "\n",
    "# Count non-null values\n",
    "cg_cols = [c for c in merged.columns if c.endswith(\"_cg\")]\n",
    "bn_cols = [c for c in merged.columns if c.endswith(\"_binance\")]\n",
    "\n",
    "cg_count = merged[cg_cols].notna().sum().sum()\n",
    "bn_count = merged[bn_cols].notna().sum().sum()\n",
    "\n",
    "# Build comparison bar chart\n",
    "fig = go.Figure()\n",
    "fig.add_trace(go.Bar(x=[\"CoinGecko\"], y=[cg_count], name=\"CoinGecko\"))\n",
    "fig.add_trace(go.Bar(x=[\"Binance\"], y=[bn_count], name=\"Binance\"))\n",
    "\n",
    "fig.update_layout(\n",
    "    title=\"Data Availability: Binance vs CoinGecko\",\n",
    "    yaxis_title=\"Non-missing values\",\n",
    "    barmode=\"group\",\n",
    ")\n",
    "fig.show()\n"
   ]
  },
  {
   "cell_type": "code",
   "execution_count": 13,
   "id": "1d940b66",
   "metadata": {},
   "outputs": [
    {
     "ename": "FileNotFoundError",
     "evalue": "[Errno 2] No such file or directory: 'data/data_Last_4_Years/merged_sources.csv'",
     "output_type": "error",
     "traceback": [
      "\u001b[1;31m---------------------------------------------------------------------------\u001b[0m",
      "\u001b[1;31mFileNotFoundError\u001b[0m                         Traceback (most recent call last)",
      "Cell \u001b[1;32mIn[13], line 6\u001b[0m\n\u001b[0;32m      3\u001b[0m \u001b[38;5;28;01mimport\u001b[39;00m \u001b[38;5;21;01mplotly\u001b[39;00m\u001b[38;5;21;01m.\u001b[39;00m\u001b[38;5;21;01mgraph_objects\u001b[39;00m \u001b[38;5;28;01mas\u001b[39;00m \u001b[38;5;21;01mgo\u001b[39;00m\n\u001b[0;32m      5\u001b[0m \u001b[38;5;66;03m# --- Load merged data ---\u001b[39;00m\n\u001b[1;32m----> 6\u001b[0m merged \u001b[38;5;241m=\u001b[39m pd\u001b[38;5;241m.\u001b[39mread_csv(\u001b[38;5;124m\"\u001b[39m\u001b[38;5;124mdata/data_Last_4_Years/merged_sources.csv\u001b[39m\u001b[38;5;124m\"\u001b[39m, parse_dates\u001b[38;5;241m=\u001b[39m[\u001b[38;5;124m\"\u001b[39m\u001b[38;5;124mdate\u001b[39m\u001b[38;5;124m\"\u001b[39m])\n\u001b[0;32m      8\u001b[0m \u001b[38;5;66;03m# --- 1. Distribution of data available per month ---\u001b[39;00m\n\u001b[0;32m      9\u001b[0m \u001b[38;5;66;03m# Count how many symbols have data each month (for any field, e.g. price_cg)\u001b[39;00m\n\u001b[0;32m     10\u001b[0m monthly_counts \u001b[38;5;241m=\u001b[39m (\n\u001b[0;32m     11\u001b[0m     merged\u001b[38;5;241m.\u001b[39mdropna(subset\u001b[38;5;241m=\u001b[39m[\u001b[38;5;124m\"\u001b[39m\u001b[38;5;124mprice_cg\u001b[39m\u001b[38;5;124m\"\u001b[39m])  \u001b[38;5;66;03m# use CoinGecko price as baseline\u001b[39;00m\n\u001b[0;32m     12\u001b[0m     \u001b[38;5;241m.\u001b[39mgroupby([merged[\u001b[38;5;124m\"\u001b[39m\u001b[38;5;124mdate\u001b[39m\u001b[38;5;124m\"\u001b[39m]\u001b[38;5;241m.\u001b[39mdt\u001b[38;5;241m.\u001b[39mto_period(\u001b[38;5;124m\"\u001b[39m\u001b[38;5;124mM\u001b[39m\u001b[38;5;124m\"\u001b[39m)])[\u001b[38;5;124m\"\u001b[39m\u001b[38;5;124msymbol\u001b[39m\u001b[38;5;124m\"\u001b[39m]\n\u001b[0;32m     13\u001b[0m     \u001b[38;5;241m.\u001b[39mnunique()\n\u001b[0;32m     14\u001b[0m     \u001b[38;5;241m.\u001b[39mreset_index()\n\u001b[0;32m     15\u001b[0m )\n",
      "File \u001b[1;32mc:\\Users\\nahid\\anaconda3\\Lib\\site-packages\\pandas\\io\\parsers\\readers.py:948\u001b[0m, in \u001b[0;36mread_csv\u001b[1;34m(filepath_or_buffer, sep, delimiter, header, names, index_col, usecols, dtype, engine, converters, true_values, false_values, skipinitialspace, skiprows, skipfooter, nrows, na_values, keep_default_na, na_filter, verbose, skip_blank_lines, parse_dates, infer_datetime_format, keep_date_col, date_parser, date_format, dayfirst, cache_dates, iterator, chunksize, compression, thousands, decimal, lineterminator, quotechar, quoting, doublequote, escapechar, comment, encoding, encoding_errors, dialect, on_bad_lines, delim_whitespace, low_memory, memory_map, float_precision, storage_options, dtype_backend)\u001b[0m\n\u001b[0;32m    935\u001b[0m kwds_defaults \u001b[38;5;241m=\u001b[39m _refine_defaults_read(\n\u001b[0;32m    936\u001b[0m     dialect,\n\u001b[0;32m    937\u001b[0m     delimiter,\n\u001b[1;32m   (...)\u001b[0m\n\u001b[0;32m    944\u001b[0m     dtype_backend\u001b[38;5;241m=\u001b[39mdtype_backend,\n\u001b[0;32m    945\u001b[0m )\n\u001b[0;32m    946\u001b[0m kwds\u001b[38;5;241m.\u001b[39mupdate(kwds_defaults)\n\u001b[1;32m--> 948\u001b[0m \u001b[38;5;28;01mreturn\u001b[39;00m _read(filepath_or_buffer, kwds)\n",
      "File \u001b[1;32mc:\\Users\\nahid\\anaconda3\\Lib\\site-packages\\pandas\\io\\parsers\\readers.py:611\u001b[0m, in \u001b[0;36m_read\u001b[1;34m(filepath_or_buffer, kwds)\u001b[0m\n\u001b[0;32m    608\u001b[0m _validate_names(kwds\u001b[38;5;241m.\u001b[39mget(\u001b[38;5;124m\"\u001b[39m\u001b[38;5;124mnames\u001b[39m\u001b[38;5;124m\"\u001b[39m, \u001b[38;5;28;01mNone\u001b[39;00m))\n\u001b[0;32m    610\u001b[0m \u001b[38;5;66;03m# Create the parser.\u001b[39;00m\n\u001b[1;32m--> 611\u001b[0m parser \u001b[38;5;241m=\u001b[39m TextFileReader(filepath_or_buffer, \u001b[38;5;241m*\u001b[39m\u001b[38;5;241m*\u001b[39mkwds)\n\u001b[0;32m    613\u001b[0m \u001b[38;5;28;01mif\u001b[39;00m chunksize \u001b[38;5;129;01mor\u001b[39;00m iterator:\n\u001b[0;32m    614\u001b[0m     \u001b[38;5;28;01mreturn\u001b[39;00m parser\n",
      "File \u001b[1;32mc:\\Users\\nahid\\anaconda3\\Lib\\site-packages\\pandas\\io\\parsers\\readers.py:1448\u001b[0m, in \u001b[0;36mTextFileReader.__init__\u001b[1;34m(self, f, engine, **kwds)\u001b[0m\n\u001b[0;32m   1445\u001b[0m     \u001b[38;5;28mself\u001b[39m\u001b[38;5;241m.\u001b[39moptions[\u001b[38;5;124m\"\u001b[39m\u001b[38;5;124mhas_index_names\u001b[39m\u001b[38;5;124m\"\u001b[39m] \u001b[38;5;241m=\u001b[39m kwds[\u001b[38;5;124m\"\u001b[39m\u001b[38;5;124mhas_index_names\u001b[39m\u001b[38;5;124m\"\u001b[39m]\n\u001b[0;32m   1447\u001b[0m \u001b[38;5;28mself\u001b[39m\u001b[38;5;241m.\u001b[39mhandles: IOHandles \u001b[38;5;241m|\u001b[39m \u001b[38;5;28;01mNone\u001b[39;00m \u001b[38;5;241m=\u001b[39m \u001b[38;5;28;01mNone\u001b[39;00m\n\u001b[1;32m-> 1448\u001b[0m \u001b[38;5;28mself\u001b[39m\u001b[38;5;241m.\u001b[39m_engine \u001b[38;5;241m=\u001b[39m \u001b[38;5;28mself\u001b[39m\u001b[38;5;241m.\u001b[39m_make_engine(f, \u001b[38;5;28mself\u001b[39m\u001b[38;5;241m.\u001b[39mengine)\n",
      "File \u001b[1;32mc:\\Users\\nahid\\anaconda3\\Lib\\site-packages\\pandas\\io\\parsers\\readers.py:1705\u001b[0m, in \u001b[0;36mTextFileReader._make_engine\u001b[1;34m(self, f, engine)\u001b[0m\n\u001b[0;32m   1703\u001b[0m     \u001b[38;5;28;01mif\u001b[39;00m \u001b[38;5;124m\"\u001b[39m\u001b[38;5;124mb\u001b[39m\u001b[38;5;124m\"\u001b[39m \u001b[38;5;129;01mnot\u001b[39;00m \u001b[38;5;129;01min\u001b[39;00m mode:\n\u001b[0;32m   1704\u001b[0m         mode \u001b[38;5;241m+\u001b[39m\u001b[38;5;241m=\u001b[39m \u001b[38;5;124m\"\u001b[39m\u001b[38;5;124mb\u001b[39m\u001b[38;5;124m\"\u001b[39m\n\u001b[1;32m-> 1705\u001b[0m \u001b[38;5;28mself\u001b[39m\u001b[38;5;241m.\u001b[39mhandles \u001b[38;5;241m=\u001b[39m get_handle(\n\u001b[0;32m   1706\u001b[0m     f,\n\u001b[0;32m   1707\u001b[0m     mode,\n\u001b[0;32m   1708\u001b[0m     encoding\u001b[38;5;241m=\u001b[39m\u001b[38;5;28mself\u001b[39m\u001b[38;5;241m.\u001b[39moptions\u001b[38;5;241m.\u001b[39mget(\u001b[38;5;124m\"\u001b[39m\u001b[38;5;124mencoding\u001b[39m\u001b[38;5;124m\"\u001b[39m, \u001b[38;5;28;01mNone\u001b[39;00m),\n\u001b[0;32m   1709\u001b[0m     compression\u001b[38;5;241m=\u001b[39m\u001b[38;5;28mself\u001b[39m\u001b[38;5;241m.\u001b[39moptions\u001b[38;5;241m.\u001b[39mget(\u001b[38;5;124m\"\u001b[39m\u001b[38;5;124mcompression\u001b[39m\u001b[38;5;124m\"\u001b[39m, \u001b[38;5;28;01mNone\u001b[39;00m),\n\u001b[0;32m   1710\u001b[0m     memory_map\u001b[38;5;241m=\u001b[39m\u001b[38;5;28mself\u001b[39m\u001b[38;5;241m.\u001b[39moptions\u001b[38;5;241m.\u001b[39mget(\u001b[38;5;124m\"\u001b[39m\u001b[38;5;124mmemory_map\u001b[39m\u001b[38;5;124m\"\u001b[39m, \u001b[38;5;28;01mFalse\u001b[39;00m),\n\u001b[0;32m   1711\u001b[0m     is_text\u001b[38;5;241m=\u001b[39mis_text,\n\u001b[0;32m   1712\u001b[0m     errors\u001b[38;5;241m=\u001b[39m\u001b[38;5;28mself\u001b[39m\u001b[38;5;241m.\u001b[39moptions\u001b[38;5;241m.\u001b[39mget(\u001b[38;5;124m\"\u001b[39m\u001b[38;5;124mencoding_errors\u001b[39m\u001b[38;5;124m\"\u001b[39m, \u001b[38;5;124m\"\u001b[39m\u001b[38;5;124mstrict\u001b[39m\u001b[38;5;124m\"\u001b[39m),\n\u001b[0;32m   1713\u001b[0m     storage_options\u001b[38;5;241m=\u001b[39m\u001b[38;5;28mself\u001b[39m\u001b[38;5;241m.\u001b[39moptions\u001b[38;5;241m.\u001b[39mget(\u001b[38;5;124m\"\u001b[39m\u001b[38;5;124mstorage_options\u001b[39m\u001b[38;5;124m\"\u001b[39m, \u001b[38;5;28;01mNone\u001b[39;00m),\n\u001b[0;32m   1714\u001b[0m )\n\u001b[0;32m   1715\u001b[0m \u001b[38;5;28;01massert\u001b[39;00m \u001b[38;5;28mself\u001b[39m\u001b[38;5;241m.\u001b[39mhandles \u001b[38;5;129;01mis\u001b[39;00m \u001b[38;5;129;01mnot\u001b[39;00m \u001b[38;5;28;01mNone\u001b[39;00m\n\u001b[0;32m   1716\u001b[0m f \u001b[38;5;241m=\u001b[39m \u001b[38;5;28mself\u001b[39m\u001b[38;5;241m.\u001b[39mhandles\u001b[38;5;241m.\u001b[39mhandle\n",
      "File \u001b[1;32mc:\\Users\\nahid\\anaconda3\\Lib\\site-packages\\pandas\\io\\common.py:863\u001b[0m, in \u001b[0;36mget_handle\u001b[1;34m(path_or_buf, mode, encoding, compression, memory_map, is_text, errors, storage_options)\u001b[0m\n\u001b[0;32m    858\u001b[0m \u001b[38;5;28;01melif\u001b[39;00m \u001b[38;5;28misinstance\u001b[39m(handle, \u001b[38;5;28mstr\u001b[39m):\n\u001b[0;32m    859\u001b[0m     \u001b[38;5;66;03m# Check whether the filename is to be opened in binary mode.\u001b[39;00m\n\u001b[0;32m    860\u001b[0m     \u001b[38;5;66;03m# Binary mode does not support 'encoding' and 'newline'.\u001b[39;00m\n\u001b[0;32m    861\u001b[0m     \u001b[38;5;28;01mif\u001b[39;00m ioargs\u001b[38;5;241m.\u001b[39mencoding \u001b[38;5;129;01mand\u001b[39;00m \u001b[38;5;124m\"\u001b[39m\u001b[38;5;124mb\u001b[39m\u001b[38;5;124m\"\u001b[39m \u001b[38;5;129;01mnot\u001b[39;00m \u001b[38;5;129;01min\u001b[39;00m ioargs\u001b[38;5;241m.\u001b[39mmode:\n\u001b[0;32m    862\u001b[0m         \u001b[38;5;66;03m# Encoding\u001b[39;00m\n\u001b[1;32m--> 863\u001b[0m         handle \u001b[38;5;241m=\u001b[39m \u001b[38;5;28mopen\u001b[39m(\n\u001b[0;32m    864\u001b[0m             handle,\n\u001b[0;32m    865\u001b[0m             ioargs\u001b[38;5;241m.\u001b[39mmode,\n\u001b[0;32m    866\u001b[0m             encoding\u001b[38;5;241m=\u001b[39mioargs\u001b[38;5;241m.\u001b[39mencoding,\n\u001b[0;32m    867\u001b[0m             errors\u001b[38;5;241m=\u001b[39merrors,\n\u001b[0;32m    868\u001b[0m             newline\u001b[38;5;241m=\u001b[39m\u001b[38;5;124m\"\u001b[39m\u001b[38;5;124m\"\u001b[39m,\n\u001b[0;32m    869\u001b[0m         )\n\u001b[0;32m    870\u001b[0m     \u001b[38;5;28;01melse\u001b[39;00m:\n\u001b[0;32m    871\u001b[0m         \u001b[38;5;66;03m# Binary mode\u001b[39;00m\n\u001b[0;32m    872\u001b[0m         handle \u001b[38;5;241m=\u001b[39m \u001b[38;5;28mopen\u001b[39m(handle, ioargs\u001b[38;5;241m.\u001b[39mmode)\n",
      "\u001b[1;31mFileNotFoundError\u001b[0m: [Errno 2] No such file or directory: 'data/data_Last_4_Years/merged_sources.csv'"
     ]
    }
   ],
   "source": [
    "import pandas as pd\n",
    "import plotly.express as px\n",
    "import plotly.graph_objects as go\n",
    "\n",
    "# --- Load merged data ---\n",
    "merged = pd.read_csv(\"data/data_Last_4_Years/merged_sources.csv\", parse_dates=[\"date\"])\n",
    "\n",
    "# --- 1. Distribution of data available per month ---\n",
    "# Count how many symbols have data each month (for any field, e.g. price_cg)\n",
    "monthly_counts = (\n",
    "    merged.dropna(subset=[\"price_cg\"])  # use CoinGecko price as baseline\n",
    "    .groupby([merged[\"date\"].dt.to_period(\"M\")])[\"symbol\"]\n",
    "    .nunique()\n",
    "    .reset_index()\n",
    ")\n",
    "monthly_counts[\"date\"] = monthly_counts[\"date\"].dt.to_timestamp()\n",
    "\n",
    "fig1 = px.bar(\n",
    "    monthly_counts,\n",
    "    x=\"date\",\n",
    "    y=\"symbol\",\n",
    "    title=\"Distribution of Available Data (Monthly, CoinGecko)\",\n",
    "    labels={\"symbol\": \"Number of Coins\", \"date\": \"Month\"},\n",
    ")\n",
    "fig1.show()"
   ]
  },
  {
   "cell_type": "code",
   "execution_count": null,
   "id": "ed5fbde8",
   "metadata": {},
   "outputs": [
    {
     "data": {
      "application/vnd.plotly.v1+json": {
       "config": {
        "plotlyServerURL": "https://plot.ly"
       },
       "data": [
        {
         "hovertemplate": "Binance Field=%{x}<br>Coverage (%)=%{marker.color}<br>text=%{text}<extra></extra>",
         "legendgroup": "",
         "marker": {
          "color": {
           "bdata": "30I09PEGSUDfQjT08QZJQN9CNPTxBklA30I09PEGSUDfQjT08QZJQA==",
           "dtype": "f8"
          },
          "coloraxis": "coloraxis",
          "pattern": {
           "shape": ""
          }
         },
         "name": "",
         "orientation": "v",
         "showlegend": false,
         "text": [
          "50.1%",
          "50.1%",
          "50.1%",
          "50.1%",
          "50.1%"
         ],
         "textposition": "outside",
         "type": "bar",
         "x": [
          "open_binance",
          "high_binance",
          "low_binance",
          "close_binance",
          "volume_binance"
         ],
         "xaxis": "x",
         "y": {
          "bdata": "30I09PEGSUDfQjT08QZJQN9CNPTxBklA30I09PEGSUDfQjT08QZJQA==",
          "dtype": "f8"
         },
         "yaxis": "y"
        }
       ],
       "layout": {
        "barmode": "relative",
        "coloraxis": {
         "colorbar": {
          "title": {
           "text": "Coverage (%)"
          }
         },
         "colorscale": [
          [
           0,
           "rgb(247,251,255)"
          ],
          [
           0.125,
           "rgb(222,235,247)"
          ],
          [
           0.25,
           "rgb(198,219,239)"
          ],
          [
           0.375,
           "rgb(158,202,225)"
          ],
          [
           0.5,
           "rgb(107,174,214)"
          ],
          [
           0.625,
           "rgb(66,146,198)"
          ],
          [
           0.75,
           "rgb(33,113,181)"
          ],
          [
           0.875,
           "rgb(8,81,156)"
          ],
          [
           1,
           "rgb(8,48,107)"
          ]
         ]
        },
        "legend": {
         "tracegroupgap": 0
        },
        "template": {
         "data": {
          "bar": [
           {
            "error_x": {
             "color": "#2a3f5f"
            },
            "error_y": {
             "color": "#2a3f5f"
            },
            "marker": {
             "line": {
              "color": "#E5ECF6",
              "width": 0.5
             },
             "pattern": {
              "fillmode": "overlay",
              "size": 10,
              "solidity": 0.2
             }
            },
            "type": "bar"
           }
          ],
          "barpolar": [
           {
            "marker": {
             "line": {
              "color": "#E5ECF6",
              "width": 0.5
             },
             "pattern": {
              "fillmode": "overlay",
              "size": 10,
              "solidity": 0.2
             }
            },
            "type": "barpolar"
           }
          ],
          "carpet": [
           {
            "aaxis": {
             "endlinecolor": "#2a3f5f",
             "gridcolor": "white",
             "linecolor": "white",
             "minorgridcolor": "white",
             "startlinecolor": "#2a3f5f"
            },
            "baxis": {
             "endlinecolor": "#2a3f5f",
             "gridcolor": "white",
             "linecolor": "white",
             "minorgridcolor": "white",
             "startlinecolor": "#2a3f5f"
            },
            "type": "carpet"
           }
          ],
          "choropleth": [
           {
            "colorbar": {
             "outlinewidth": 0,
             "ticks": ""
            },
            "type": "choropleth"
           }
          ],
          "contour": [
           {
            "colorbar": {
             "outlinewidth": 0,
             "ticks": ""
            },
            "colorscale": [
             [
              0,
              "#0d0887"
             ],
             [
              0.1111111111111111,
              "#46039f"
             ],
             [
              0.2222222222222222,
              "#7201a8"
             ],
             [
              0.3333333333333333,
              "#9c179e"
             ],
             [
              0.4444444444444444,
              "#bd3786"
             ],
             [
              0.5555555555555556,
              "#d8576b"
             ],
             [
              0.6666666666666666,
              "#ed7953"
             ],
             [
              0.7777777777777778,
              "#fb9f3a"
             ],
             [
              0.8888888888888888,
              "#fdca26"
             ],
             [
              1,
              "#f0f921"
             ]
            ],
            "type": "contour"
           }
          ],
          "contourcarpet": [
           {
            "colorbar": {
             "outlinewidth": 0,
             "ticks": ""
            },
            "type": "contourcarpet"
           }
          ],
          "heatmap": [
           {
            "colorbar": {
             "outlinewidth": 0,
             "ticks": ""
            },
            "colorscale": [
             [
              0,
              "#0d0887"
             ],
             [
              0.1111111111111111,
              "#46039f"
             ],
             [
              0.2222222222222222,
              "#7201a8"
             ],
             [
              0.3333333333333333,
              "#9c179e"
             ],
             [
              0.4444444444444444,
              "#bd3786"
             ],
             [
              0.5555555555555556,
              "#d8576b"
             ],
             [
              0.6666666666666666,
              "#ed7953"
             ],
             [
              0.7777777777777778,
              "#fb9f3a"
             ],
             [
              0.8888888888888888,
              "#fdca26"
             ],
             [
              1,
              "#f0f921"
             ]
            ],
            "type": "heatmap"
           }
          ],
          "histogram": [
           {
            "marker": {
             "pattern": {
              "fillmode": "overlay",
              "size": 10,
              "solidity": 0.2
             }
            },
            "type": "histogram"
           }
          ],
          "histogram2d": [
           {
            "colorbar": {
             "outlinewidth": 0,
             "ticks": ""
            },
            "colorscale": [
             [
              0,
              "#0d0887"
             ],
             [
              0.1111111111111111,
              "#46039f"
             ],
             [
              0.2222222222222222,
              "#7201a8"
             ],
             [
              0.3333333333333333,
              "#9c179e"
             ],
             [
              0.4444444444444444,
              "#bd3786"
             ],
             [
              0.5555555555555556,
              "#d8576b"
             ],
             [
              0.6666666666666666,
              "#ed7953"
             ],
             [
              0.7777777777777778,
              "#fb9f3a"
             ],
             [
              0.8888888888888888,
              "#fdca26"
             ],
             [
              1,
              "#f0f921"
             ]
            ],
            "type": "histogram2d"
           }
          ],
          "histogram2dcontour": [
           {
            "colorbar": {
             "outlinewidth": 0,
             "ticks": ""
            },
            "colorscale": [
             [
              0,
              "#0d0887"
             ],
             [
              0.1111111111111111,
              "#46039f"
             ],
             [
              0.2222222222222222,
              "#7201a8"
             ],
             [
              0.3333333333333333,
              "#9c179e"
             ],
             [
              0.4444444444444444,
              "#bd3786"
             ],
             [
              0.5555555555555556,
              "#d8576b"
             ],
             [
              0.6666666666666666,
              "#ed7953"
             ],
             [
              0.7777777777777778,
              "#fb9f3a"
             ],
             [
              0.8888888888888888,
              "#fdca26"
             ],
             [
              1,
              "#f0f921"
             ]
            ],
            "type": "histogram2dcontour"
           }
          ],
          "mesh3d": [
           {
            "colorbar": {
             "outlinewidth": 0,
             "ticks": ""
            },
            "type": "mesh3d"
           }
          ],
          "parcoords": [
           {
            "line": {
             "colorbar": {
              "outlinewidth": 0,
              "ticks": ""
             }
            },
            "type": "parcoords"
           }
          ],
          "pie": [
           {
            "automargin": true,
            "type": "pie"
           }
          ],
          "scatter": [
           {
            "fillpattern": {
             "fillmode": "overlay",
             "size": 10,
             "solidity": 0.2
            },
            "type": "scatter"
           }
          ],
          "scatter3d": [
           {
            "line": {
             "colorbar": {
              "outlinewidth": 0,
              "ticks": ""
             }
            },
            "marker": {
             "colorbar": {
              "outlinewidth": 0,
              "ticks": ""
             }
            },
            "type": "scatter3d"
           }
          ],
          "scattercarpet": [
           {
            "marker": {
             "colorbar": {
              "outlinewidth": 0,
              "ticks": ""
             }
            },
            "type": "scattercarpet"
           }
          ],
          "scattergeo": [
           {
            "marker": {
             "colorbar": {
              "outlinewidth": 0,
              "ticks": ""
             }
            },
            "type": "scattergeo"
           }
          ],
          "scattergl": [
           {
            "marker": {
             "colorbar": {
              "outlinewidth": 0,
              "ticks": ""
             }
            },
            "type": "scattergl"
           }
          ],
          "scattermap": [
           {
            "marker": {
             "colorbar": {
              "outlinewidth": 0,
              "ticks": ""
             }
            },
            "type": "scattermap"
           }
          ],
          "scattermapbox": [
           {
            "marker": {
             "colorbar": {
              "outlinewidth": 0,
              "ticks": ""
             }
            },
            "type": "scattermapbox"
           }
          ],
          "scatterpolar": [
           {
            "marker": {
             "colorbar": {
              "outlinewidth": 0,
              "ticks": ""
             }
            },
            "type": "scatterpolar"
           }
          ],
          "scatterpolargl": [
           {
            "marker": {
             "colorbar": {
              "outlinewidth": 0,
              "ticks": ""
             }
            },
            "type": "scatterpolargl"
           }
          ],
          "scatterternary": [
           {
            "marker": {
             "colorbar": {
              "outlinewidth": 0,
              "ticks": ""
             }
            },
            "type": "scatterternary"
           }
          ],
          "surface": [
           {
            "colorbar": {
             "outlinewidth": 0,
             "ticks": ""
            },
            "colorscale": [
             [
              0,
              "#0d0887"
             ],
             [
              0.1111111111111111,
              "#46039f"
             ],
             [
              0.2222222222222222,
              "#7201a8"
             ],
             [
              0.3333333333333333,
              "#9c179e"
             ],
             [
              0.4444444444444444,
              "#bd3786"
             ],
             [
              0.5555555555555556,
              "#d8576b"
             ],
             [
              0.6666666666666666,
              "#ed7953"
             ],
             [
              0.7777777777777778,
              "#fb9f3a"
             ],
             [
              0.8888888888888888,
              "#fdca26"
             ],
             [
              1,
              "#f0f921"
             ]
            ],
            "type": "surface"
           }
          ],
          "table": [
           {
            "cells": {
             "fill": {
              "color": "#EBF0F8"
             },
             "line": {
              "color": "white"
             }
            },
            "header": {
             "fill": {
              "color": "#C8D4E3"
             },
             "line": {
              "color": "white"
             }
            },
            "type": "table"
           }
          ]
         },
         "layout": {
          "annotationdefaults": {
           "arrowcolor": "#2a3f5f",
           "arrowhead": 0,
           "arrowwidth": 1
          },
          "autotypenumbers": "strict",
          "coloraxis": {
           "colorbar": {
            "outlinewidth": 0,
            "ticks": ""
           }
          },
          "colorscale": {
           "diverging": [
            [
             0,
             "#8e0152"
            ],
            [
             0.1,
             "#c51b7d"
            ],
            [
             0.2,
             "#de77ae"
            ],
            [
             0.3,
             "#f1b6da"
            ],
            [
             0.4,
             "#fde0ef"
            ],
            [
             0.5,
             "#f7f7f7"
            ],
            [
             0.6,
             "#e6f5d0"
            ],
            [
             0.7,
             "#b8e186"
            ],
            [
             0.8,
             "#7fbc41"
            ],
            [
             0.9,
             "#4d9221"
            ],
            [
             1,
             "#276419"
            ]
           ],
           "sequential": [
            [
             0,
             "#0d0887"
            ],
            [
             0.1111111111111111,
             "#46039f"
            ],
            [
             0.2222222222222222,
             "#7201a8"
            ],
            [
             0.3333333333333333,
             "#9c179e"
            ],
            [
             0.4444444444444444,
             "#bd3786"
            ],
            [
             0.5555555555555556,
             "#d8576b"
            ],
            [
             0.6666666666666666,
             "#ed7953"
            ],
            [
             0.7777777777777778,
             "#fb9f3a"
            ],
            [
             0.8888888888888888,
             "#fdca26"
            ],
            [
             1,
             "#f0f921"
            ]
           ],
           "sequentialminus": [
            [
             0,
             "#0d0887"
            ],
            [
             0.1111111111111111,
             "#46039f"
            ],
            [
             0.2222222222222222,
             "#7201a8"
            ],
            [
             0.3333333333333333,
             "#9c179e"
            ],
            [
             0.4444444444444444,
             "#bd3786"
            ],
            [
             0.5555555555555556,
             "#d8576b"
            ],
            [
             0.6666666666666666,
             "#ed7953"
            ],
            [
             0.7777777777777778,
             "#fb9f3a"
            ],
            [
             0.8888888888888888,
             "#fdca26"
            ],
            [
             1,
             "#f0f921"
            ]
           ]
          },
          "colorway": [
           "#636efa",
           "#EF553B",
           "#00cc96",
           "#ab63fa",
           "#FFA15A",
           "#19d3f3",
           "#FF6692",
           "#B6E880",
           "#FF97FF",
           "#FECB52"
          ],
          "font": {
           "color": "#2a3f5f"
          },
          "geo": {
           "bgcolor": "white",
           "lakecolor": "white",
           "landcolor": "#E5ECF6",
           "showlakes": true,
           "showland": true,
           "subunitcolor": "white"
          },
          "hoverlabel": {
           "align": "left"
          },
          "hovermode": "closest",
          "mapbox": {
           "style": "light"
          },
          "paper_bgcolor": "white",
          "plot_bgcolor": "#E5ECF6",
          "polar": {
           "angularaxis": {
            "gridcolor": "white",
            "linecolor": "white",
            "ticks": ""
           },
           "bgcolor": "#E5ECF6",
           "radialaxis": {
            "gridcolor": "white",
            "linecolor": "white",
            "ticks": ""
           }
          },
          "scene": {
           "xaxis": {
            "backgroundcolor": "#E5ECF6",
            "gridcolor": "white",
            "gridwidth": 2,
            "linecolor": "white",
            "showbackground": true,
            "ticks": "",
            "zerolinecolor": "white"
           },
           "yaxis": {
            "backgroundcolor": "#E5ECF6",
            "gridcolor": "white",
            "gridwidth": 2,
            "linecolor": "white",
            "showbackground": true,
            "ticks": "",
            "zerolinecolor": "white"
           },
           "zaxis": {
            "backgroundcolor": "#E5ECF6",
            "gridcolor": "white",
            "gridwidth": 2,
            "linecolor": "white",
            "showbackground": true,
            "ticks": "",
            "zerolinecolor": "white"
           }
          },
          "shapedefaults": {
           "line": {
            "color": "#2a3f5f"
           }
          },
          "ternary": {
           "aaxis": {
            "gridcolor": "white",
            "linecolor": "white",
            "ticks": ""
           },
           "baxis": {
            "gridcolor": "white",
            "linecolor": "white",
            "ticks": ""
           },
           "bgcolor": "#E5ECF6",
           "caxis": {
            "gridcolor": "white",
            "linecolor": "white",
            "ticks": ""
           }
          },
          "title": {
           "x": 0.05
          },
          "xaxis": {
           "automargin": true,
           "gridcolor": "white",
           "linecolor": "white",
           "ticks": "",
           "title": {
            "standoff": 15
           },
           "zerolinecolor": "white",
           "zerolinewidth": 2
          },
          "yaxis": {
           "automargin": true,
           "gridcolor": "white",
           "linecolor": "white",
           "ticks": "",
           "title": {
            "standoff": 15
           },
           "zerolinecolor": "white",
           "zerolinewidth": 2
          }
         }
        },
        "title": {
         "text": "Availability of Binance OHLCV Fields in Dataset"
        },
        "xaxis": {
         "anchor": "y",
         "domain": [
          0,
          1
         ],
         "title": {
          "text": "Binance Field"
         }
        },
        "yaxis": {
         "anchor": "x",
         "domain": [
          0,
          1
         ],
         "range": [
          0,
          100
         ],
         "title": {
          "text": "Coverage (%)"
         }
        }
       }
      }
     },
     "metadata": {},
     "output_type": "display_data"
    },
    {
     "ename": "",
     "evalue": "",
     "output_type": "error",
     "traceback": [
      "\u001b[1;31mnotebook controller is DISPOSED. \n",
      "\u001b[1;31mView Jupyter <a href='command:jupyter.viewOutput'>log</a> for further details."
     ]
    },
    {
     "ename": "",
     "evalue": "",
     "output_type": "error",
     "traceback": [
      "\u001b[1;31mnotebook controller is DISPOSED. \n",
      "\u001b[1;31mView Jupyter <a href='command:jupyter.viewOutput'>log</a> for further details."
     ]
    }
   ],
   "source": [
    "import pandas as pd\n",
    "import plotly.express as px\n",
    "\n",
    "# --- Load merged dataset ---\n",
    "merged = pd.read_csv(\"data/data_Last_4_Years/merged_sources.csv\", parse_dates=[\"date\"])\n",
    "\n",
    "# --- Select Binance OHLCV fields ---\n",
    "binance_cols = [\"open_binance\", \"high_binance\", \"low_binance\", \"close_binance\", \"volume_binance\"]\n",
    "\n",
    "# Count non-null values for each Binance field\n",
    "availability = merged[binance_cols].notna().sum().reset_index()\n",
    "availability.columns = [\"field\", \"count\"]\n",
    "\n",
    "# Normalize to percentage of total rows\n",
    "availability[\"percent\"] = 100 * availability[\"count\"] / len(merged)\n",
    "\n",
    "# --- Plot ---\n",
    "fig = px.bar(\n",
    "    availability,\n",
    "    x=\"field\",\n",
    "    y=\"percent\",\n",
    "    text=availability[\"percent\"].round(1).astype(str) + \"%\",\n",
    "    title=\"Availability of Binance OHLCV Fields in Dataset\",\n",
    "    labels={\"percent\": \"Coverage (%)\", \"field\": \"Binance Field\"},\n",
    "    color=\"percent\",\n",
    "    color_continuous_scale=\"Blues\",\n",
    ")\n",
    "\n",
    "fig.update_traces(textposition=\"outside\")\n",
    "fig.update_layout(yaxis=dict(range=[0, 100]))\n",
    "fig.show()\n"
   ]
  }
 ],
 "metadata": {
  "kernelspec": {
   "display_name": "base",
   "language": "python",
   "name": "python3"
  },
  "language_info": {
   "codemirror_mode": {
    "name": "ipython",
    "version": 3
   },
   "file_extension": ".py",
   "mimetype": "text/x-python",
   "name": "python",
   "nbconvert_exporter": "python",
   "pygments_lexer": "ipython3",
   "version": "3.11.5"
  }
 },
 "nbformat": 4,
 "nbformat_minor": 5
}
